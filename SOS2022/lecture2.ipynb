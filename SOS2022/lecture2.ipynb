{
 "cells": [
  {
   "cell_type": "markdown",
   "metadata": {},
   "source": [
    "# **Classical interval estimation, limits, systematics Lecture 2 : exercises notebook**"
   ]
  },
  {
   "cell_type": "markdown",
   "metadata": {},
   "source": [
    "This is the companion notebook to lecture 1 in the _Classical interval estimation, limits and systematics_ course, covering the following topics:\n",
    "\n",
    "1. Parameter estimation using likelihood methods\n",
    "3. Maximum likelihood in the Gaussian case and chi2\n",
    "4. Hypothesis testing basics\n",
    "\n",
    "First perform the usual imports:"
   ]
  },
  {
   "cell_type": "code",
   "execution_count": null,
   "metadata": {},
   "outputs": [],
   "source": [
    "import numpy as np\n",
    "import scipy.stats\n",
    "from matplotlib import pyplot as plt"
   ]
  },
  {
   "cell_type": "markdown",
   "metadata": {},
   "source": [
    "## 1. Parameter estimation using likelihood methods"
   ]
  },
  {
   "cell_type": "markdown",
   "metadata": {},
   "source": [
    "In the previous lecture, we have applied hypothesis testing to a bin-counting experiment:"
   ]
  },
  {
   "cell_type": "code",
   "execution_count": 9,
   "metadata": {},
   "outputs": [
    {
     "data": {
      "image/png": "[encoded data removed]",
      "text/plain": [
       "<Figure size 432x288 with 1 Axes>"
      ]
     },
     "metadata": {
      "needs_background": "light"
     },
     "output_type": "display_data"
    }
   ],
   "source": [
    "nbins = 10\n",
    "x = np.linspace(0, nbins - 1, nbins)\n",
    "\n",
    "# The background follows a linear shape\n",
    "b_yields = np.array([ (1 - i/2/nbins) for i in range(0, nbins) ])\n",
    "b_fracs = b_yields/np.sum(b_yields)\n",
    "\n",
    "# The signal shape is a peak\n",
    "s_fracs = np.zeros(nbins)\n",
    "s_fracs[3:7] = [ 0.1, 0.4, 0.4, 0.1 ]\n",
    "\n",
    "# Now generate some data for s=10\n",
    "s = 10\n",
    "b = 500\n",
    "s_and_b = s*s_fracs + b*b_fracs\n",
    "b_only = b*b_fracs\n",
    "np.random.seed(102) # make sure we always generate the same\n",
    "data = [ np.random.poisson(s*s_frac + b*b_frac) for s_frac, b_frac in zip(s_fracs, b_fracs) ]\n",
    "\n",
    "# And define the model for s=30\n",
    "s30_and_b = 30*s_fracs + b*b_fracs\n",
    "\n",
    "# And finally plot everything\n",
    "plt.bar(x, s30_and_b, color='orange', label='s=30')\n",
    "plt.bar(x, b_only, color='b', yerr=np.sqrt(b_only), label='b only')\n",
    "plt.scatter(x, data, zorder=10, color='k')\n",
    "plt.xlabel('bin number')\n",
    "plt.ylabel('Total expected yield')\n",
    "plt.legend();"
   ]
  },
  {
   "cell_type": "markdown",
   "metadata": {},
   "source": [
    "There are some fluctuations in the data, but it seems that the $s$ is fairly small compared to the $s=30$ shown in orange (note that we cheated and generated the data for $s=10$, so this is not unexpected!). We can use the tools defined in the previous lecture to find the best-fit $s$:"
   ]
  },
  {
   "cell_type": "code",
   "execution_count": null,
   "metadata": {},
   "outputs": [],
   "source": [
    "# ==> First define the log-likelihood function lambda = -2 log L as in the previous class \n",
    "def lambda_s(s, data) :\n",
    "    return sum( [ -2*np.log(scipy.stats.poisson.pmf(n, s*s_frac + b*b_frac)) for n, s_frac, b_frac in zip(data, s_fracs, b_fracs) ] )\n",
    "\n",
    "from scipy.optimize import minimize_scalar\n",
    "\n",
    "\n",
    "# ==> Minimize it for the observed data, using minimize_scalar as before (remember to use lambda s: lambda_s(s, data) to get a function of s only)\n",
    "def best_fit_s(data) :\n",
    "    pass #  ==> Replace this with minimizing code"
   ]
  },
  {
   "cell_type": "markdown",
   "metadata": {},
   "source": [
    "We are going to compute confidence intervals on the a signal yield $s$ use the likelihood-based discriminant\n",
    "$$\n",
    "t(s) = -2 \\log \\frac{L(s)}{L(\\hat{s})}\n",
    "$$\n",
    "following the same principle as for discovery. Define it:"
   ]
  },
  {
   "cell_type": "code",
   "execution_count": null,
   "metadata": {},
   "outputs": [],
   "source": [
    "def t_s(s_test) :\n",
    "    pass # ==> Replace this with the definition, in terms of lambda_s and the best_fit_s(data) computed in section 1"
   ]
  },
  {
   "cell_type": "markdown",
   "metadata": {},
   "source": [
    "Now plot it:"
   ]
  },
  {
   "cell_type": "code",
   "execution_count": null,
   "metadata": {},
   "outputs": [],
   "source": [
    "s_vals = np.arange(-10,20,1)\n",
    "# ==> Plot t_s(s) for the s values above"
   ]
  },
  {
   "cell_type": "markdown",
   "metadata": {},
   "source": [
    "You should find a parabola, which is expected for a near-Gaussian case. A quick computation will show that for a Gaussian likelihood $\\hat{s} \\sim G(s, \\sigma_s)$, one has\n",
    "$$\n",
    "t(s) = \\left(\\frac{s - \\hat{s}}{\\sigma_s}\\right)^2\n",
    "$$\n",
    "which explains the parabola.\n",
    "\n",
    "In this Gaussian case, the $\\pm 1\\sigma$ uncertainties are reached for $t(s)=1$. We will assume that this still holds true also in not-so-Gaussian cases, so that we **define** the uncertainties using the crossings with $t(s)=1$:"
   ]
  },
  {
   "cell_type": "code",
   "execution_count": null,
   "metadata": {},
   "outputs": [],
   "source": [
    "# ==> Plot t(s) again\n",
    "\n",
    "# Draw the t(s) = 1 line for illustration\n",
    "plt.axhline(1, linestyle='--');\n",
    "\n",
    "# ==> Now compute the s values for which t(s)=1, which will give the endpoints of the confidence intervals\n",
    "#     You can use the function scipy.optimize.root_scalar(func, bracket=(lo, hi)).root\n",
    "#     which returns the root of the function 'func' over the interval (lo, hi)\n",
    "#     Note that lambda s : t_s(s) - 1 can be used to define an appropriate 'func' in our case"
   ]
  },
  {
   "cell_type": "markdown",
   "metadata": {},
   "source": [
    "This defines a type of confidence intervals called *likelihood intervals* which are not quite exact in the non-Gaussian case but are an excellent approximation to the exact solution. This is because some non-Gaussian effects are accounted for in the expression of $t(s)$, which here uses a Poisson expression, so this is a better approximation than just assuming that everything is Gaussian. This type of technique is usually referred to as an *asymptotic approximation*, and we'll see a similar example below for the limits."
   ]
  },
  {
   "cell_type": "markdown",
   "metadata": {},
   "source": [
    "## 2.  Limit-setting using likelihoods\n",
    "\n",
    "Measuring the signal is useful when it is large, but when it is very small it can be more interesting to set an upper limit on it. This means computing the value of the signal yield that is large enough to be excluded with a given confidence level, typically 95%.\n",
    "\n",
    "This \"95%\" means that if we would repeat the experiment many times, the true signal would be below the limit 95% of the time.  This is represented in the picture below, with the shaded area corresponding to 5% of the integral."
   ]
  },
  {
   "cell_type": "code",
   "execution_count": 10,
   "metadata": {},
   "outputs": [
    {
     "data": {
      "image/png": "[encoded data removed]",
      "text/plain": [
       "<Figure size 432x288 with 1 Axes>"
      ]
     },
     "metadata": {
      "needs_background": "light"
     },
     "output_type": "display_data"
    }
   ],
   "source": [
    "n = 50\n",
    "sigma = np.sqrt(n)\n",
    "ns = np.arange(35,85,0.1)\n",
    "plt.plot(ns, scipy.stats.norm.pdf(ns, loc=n + 1.64*sigma, scale=sigma))\n",
    "plt.ylim(0,0.1)\n",
    "plt.xlabel('n')\n",
    "plt.ylabel('P(n)')\n",
    "\n",
    "up = 1\n",
    "shaded_ns = np.arange(35, n, 0.1)\n",
    "plt.fill_between(shaded_ns, scipy.stats.norm.pdf(shaded_ns, loc=n + 1.64*sigma, scale=sigma), alpha=0.5, color='g')\n",
    "#plt.axvline(x=n + 1.64*sigma, linestyle='--', color='k')\n",
    "plt.axvline(x=n, linestyle='--', color='k')\n",
    "#plt.text(n + 1.64*sigma + 2, 0.08, 's95 + b')\n",
    "plt.text(n - 11, 0.08, 'observed n');"
   ]
  },
  {
   "cell_type": "markdown",
   "metadata": {},
   "source": [
    "As it says above, the upper limits is about $1.64\\sigma$ above the observed value, in the Gaussian case. Can you compute this number exactly ?"
   ]
  },
  {
   "cell_type": "code",
   "execution_count": null,
   "metadata": {},
   "outputs": [],
   "source": [
    "# Use scipy.stats.norm.isf(0.05), the inverse of the survival function"
   ]
  },
  {
   "cell_type": "markdown",
   "metadata": {},
   "source": [
    "Now let's apply limit-setting on the same multi-bin example we already used for interval estimation above. This is justified here, since from the previous section we know the signal is not large -- setting an upper limit makes sense in this situation."
   ]
  },
  {
   "cell_type": "code",
   "execution_count": 11,
   "metadata": {},
   "outputs": [
    {
     "data": {
      "image/png": "[encoded data removed]",
      "text/plain": [
       "<Figure size 432x288 with 1 Axes>"
      ]
     },
     "metadata": {
      "needs_background": "light"
     },
     "output_type": "display_data"
    }
   ],
   "source": [
    "# Plot the model again, for s=30\n",
    "plt.bar(x, s30_and_b, color='orange', label='s=30')\n",
    "plt.bar(x, b_only, color='b', yerr=np.sqrt(b_only), label='b only')\n",
    "plt.scatter(x, data, zorder=10, color='k')\n",
    "plt.xlabel('bin number')\n",
    "plt.ylabel('Total expected yield')\n",
    "plt.legend();"
   ]
  },
  {
   "cell_type": "markdown",
   "metadata": {},
   "source": [
    "As usual, we use the likelihood-based discriminant\n",
    "$$\n",
    "t(s)  = -2 \\log \\frac{L(s)}{L(\\hat{s})}\n",
    "$$\n",
    "\n",
    "The only difference compared to parameter measurement is that we will only consider the positive side of the distribution, $s > \\hat{s}$, since we are looking for an *upper* limit. \n",
    "\n",
    "As we saw before, for the Gaussian case we have\n",
    "$$\n",
    "t(s) = \\left(\\frac{s - \\hat{s}}{\\sigma_s}\\right)^2\n",
    "$$\n",
    "so that the limit is reached for $t(s) = 1.64^2$, where $\\Phi\\left(\\sqrt{t(s)}\\right) = 0.05$\n",
    "\n",
    "As for the intervals, we will assume that the relation above is always valid (even if of course our model is not exactly Gaussian). So we will define our limit $s_{95}$ as  $\\Phi\\left(\\sqrt{t(s_{95})}\\right) = 0.05$. Remember, this still accounts for non-Gaussianity through the expression of $t(s)$, and usually provides an excellent approximation to the true limit. As for the intervals, this is referred to as the *asymptotic* approximation."
   ]
  },
  {
   "cell_type": "code",
   "execution_count": null,
   "metadata": {},
   "outputs": [],
   "source": [
    "s_vals = np.linspace(10, 50, 100)\n",
    "# ==> plot Phi(sqrt(t_s)) for the values of s above\n",
    "# ==> Find the crossing of the curve above with 0.05, using root_scalar as for the intervals. This defines the 95% CL limit"
   ]
  },
  {
   "cell_type": "markdown",
   "metadata": {},
   "source": [
    "## 3. Profiling"
   ]
  },
  {
   "cell_type": "markdown",
   "metadata": {},
   "source": [
    "We have discussed 3 types of statistical results:\n",
    "* Testing for discovery\n",
    "* Computing confidence intervals for parameters (central value +/- uncertainty)\n",
    "* Setting upper limits\n",
    "\n",
    "For simplicity, all this was done using models with only 1 parameter (the signal $s$), which was the *parameter of interest*. Models usually also have additional *nuisance parameters* which aren't interesting in themselves, but need to be included to describe the data.\n",
    "\n",
    "These parameters need to be included in the treatment, but fortunately this is quite easy in the likelihood ratio framework. The basic quantity we used before was\n",
    "$$\n",
    "t(s) = -2 \\log \\frac{L(s)}{L(\\hat{s})}\n",
    "$$\n",
    "\n",
    "This allows to compare 2 hypotheses:\n",
    "* The free hypothesis $\\hat{s}$ which corresponds to the best-fit $s$ in the data.\n",
    "* The fixed hypothesis $s$ (for instance $s=0$ for discoveries)\n",
    "\n",
    "If we have an additional nuisance parameter $\\theta$, the likelihood is now a function of both parameters: $L(s, \\theta)$. How do we set $\\theta$ ? The interesting answer is that in both cases, we use the best-fit value of $\\theta$ :\n",
    "* For the free hypothesis $\\hat{s}$, we use $\\hat{\\theta}$, the best-fit value of $\\theta$.\n",
    "* For the fixed hypothesis $s$, we use $\\hat{\\hat{\\theta}}(s)$, the best-fit value of $\\theta$ at a fixed $s$.\n",
    "\n",
    "So in the end we use\n",
    "$$\n",
    "t(s) = -2 \\log \\frac{L(s, \\hat{\\hat{\\theta}}(s))}{L(\\hat{s},\\hat{\\theta})}\n",
    "$$\n",
    "with the appropriate best-fit values. This is now called the *profile likelihood*.\n",
    "\n",
    "A very nice feature of this is that $t(s)$ is still a function only of $s$, so we can perform the rest of the computation in the same way as before. The only difference is that we need to compute best-fit values for $\\theta$ in order to compute the appropriate ilikelihood values.\n"
   ]
  },
  {
   "cell_type": "markdown",
   "metadata": {},
   "source": [
    "We reuse the same example as in the previous sections"
   ]
  },
  {
   "cell_type": "code",
   "execution_count": 12,
   "metadata": {},
   "outputs": [
    {
     "data": {
      "image/png": "[encoded data removed]",
      "text/plain": [
       "<Figure size 432x288 with 1 Axes>"
      ]
     },
     "metadata": {
      "needs_background": "light"
     },
     "output_type": "display_data"
    }
   ],
   "source": [
    "plt.bar(x, s30_and_b, color='orange', label='s=30')\n",
    "plt.bar(x, b_only, color='b', yerr=np.sqrt(b_only), label='b only')\n",
    "plt.scatter(x, data, zorder=10, color='k')\n",
    "plt.xlabel('bin number')\n",
    "plt.ylabel('Total expected yield')\n",
    "plt.legend();"
   ]
  },
  {
   "cell_type": "markdown",
   "metadata": {},
   "source": [
    "For simplicity, we will focus on the single-bin measurement in bin 4:"
   ]
  },
  {
   "cell_type": "code",
   "execution_count": 13,
   "metadata": {},
   "outputs": [
    {
     "data": {
      "image/png": "[encoded data removed]",
      "text/plain": [
       "<Figure size 432x288 with 1 Axes>"
      ]
     },
     "metadata": {
      "needs_background": "light"
     },
     "output_type": "display_data"
    }
   ],
   "source": [
    "sb4 = s30_and_b[4]\n",
    "b4 = b_only[4]\n",
    "n4 = data[4]\n",
    "plt.bar(x[4], sb4, color='orange', label='s=30')\n",
    "plt.bar(x[4], b4, color='b', yerr=np.sqrt(b_only[4]), label='b only')\n",
    "plt.scatter(x[4], n4, zorder=10, color='k')\n",
    "plt.xlabel('bin number')\n",
    "plt.ylabel('Total expected yield')\n",
    "plt.legend();"
   ]
  },
  {
   "cell_type": "markdown",
   "metadata": {},
   "source": [
    "As in the previous exercise, we can measure $s$ here using the likelihood technique, computing the crossings with $t=1$. Let's do it:"
   ]
  },
  {
   "cell_type": "code",
   "execution_count": null,
   "metadata": {},
   "outputs": [],
   "source": [
    "s_vals = np.arange(-10,20,1)\n",
    "\n",
    "def lambda_s(s_val,b_val) : \n",
    "    pass # ==> Define the -2 log likelihood for the Poisson measurement in bin 4\n",
    "\n",
    "def t_s(s, b) :\n",
    "    pass # ==> Define the t(s) for bin 4\n",
    "\n",
    "# Plot the result\n",
    "s_vals = np.arange(-10,20,1)\n",
    "plt.plot(s_vals, [ t_s(s_val, b4) for s_val in s_vals ], linestyle='--')\n",
    "plt.xlabel('s')\n",
    "plt.ylabel('t(s)')\n",
    "plt.axhline(0)\n",
    "plt.axhline(1, linestyle=':')\n"
   ]
  },
  {
   "cell_type": "markdown",
   "metadata": {},
   "source": [
    "We introduce a new ingredient: the background level $b_4$ is now not a fixed number, but only known up to an uncertainty, say $\\sigma_b = \\pm 2$. We assume here that it is Gaussian-distributed, so that the full likelihood is\n",
    "$$\n",
    "L(s, b) = P(n_4; s_4 + b_4) G(b^{\\text{aux}}, b_4, \\sigma_b)\n",
    "$$\n",
    "\n",
    "where the first term is the Poisson PDF we had before, and the Gaussian is a new term giving the PDF for $b_4$. The central value of the $b_4$ constraint is $b^{\\text{aux}}$, which is a kind of observable: we can assume that our knowledge of $b_4$ comes from a separate \"auxiliary\" experiment which observed $b^{\\text{aux}}$ with an uncertainty $\\sigma_b$, and we use this to constrain $b_4$ in the experiment here. \n",
    "\n",
    "In practice the constraint on $b_4$ can also come from Monte-Carlo simulation, an independent theory prediction, etc., but in this case we can anyway use the same formalism, and set $b^{\\text{aux}}$ to the nominal prediction and $\\sigma_b$ to its uncertainty.\n",
    "\n",
    "Here we'll set $b^{\\text{aux}}$ to our original background value, which is what we take as nominal:"
   ]
  },
  {
   "cell_type": "code",
   "execution_count": null,
   "metadata": {},
   "outputs": [],
   "source": [
    "baux = b_only[4]\n",
    "sigmab = 3"
   ]
  },
  {
   "cell_type": "markdown",
   "metadata": {},
   "source": [
    "Now we compute the profile likelihood, with $s$ as our parameter of interest, and $b$ the nuisance parameter. \n",
    "\n",
    "First we define $\\lambda(s,b) = -2\\log L(s,b)$, where $L(s,b)$ is the product of two terms:\n",
    "* The usual Poisson PDF for the one-bin counting process\n",
    "* The Gaussian representing the constraint on $b$, with an observable $b_{\\text{aux}}$, a mean $b$, and a width $\\sigma_b$.\n",
    "\n",
    "Secondly, we define the *profiled* version of the above, where $b$ is set to its best-fit value. To define it, we first must compute the best-fit $\\hat{\\hat {b}}(s)$ for a given $s$, by minimizing $\\lambda(s,b)$ for a fixed value of $s$. Then the profile likelihood is defined as $\\lambda(s) = -2\\log L(s,\\hat{\\hat {b}}(s))$.\n",
    "\n",
    "Finally, the $t(s)$ function is defined as usual as $t(s) = \\lambda(s) - \\lambda(\\hat{s})$, after computing the best-fit $\\hat{s}$ which minimizes $\\lambda(s)$. \n"
   ]
  },
  {
   "cell_type": "code",
   "execution_count": null,
   "metadata": {},
   "outputs": [],
   "source": [
    "def lambda_sb(s_val,b_val) : \n",
    "    pass # ==> Define the -2*log of the bin 4 measurement with the Gaussian constraint\n",
    "\n",
    "# We now define the profile likelihood: this is for the best-fit value of b, so we have\n",
    "def prof_lambda_s(s_val) :\n",
    "    best_fit_b = scipy.optimize.minimize_scalar(lambda b_val : lambda_sb(s_val,b_val), bracket=(30,50)).x\n",
    "    return lambda_sb(s_val, best_fit_b)\n",
    "\n",
    "# Now define a t(s) using the prof_lambda_s function instead of lambda_s \n",
    "def prof_t_s(s_val) :\n",
    "    best_fit_s = scipy.optimize.minimize_scalar(prof_lambda_s, bracket=(-10,20)).x\n",
    "    return prof_lambda_s(s_val) - prof_lambda_s(best_fit_s)\n",
    "    \n",
    "# And plot it\n",
    "plt.plot(s_vals, [ prof_t_s(s_val) for s_val in s_vals ])\n",
    "plt.axhline(0)\n",
    "plt.axhline(1, linestyle=':')\n",
    "plt.ylabel('prof_t_s');"
   ]
  },
  {
   "cell_type": "markdown",
   "metadata": {},
   "source": [
    "This should look again quite parabolic, and similar to what we had just before without background uncertainty. Just to check, we can compare the two cases"
   ]
  },
  {
   "cell_type": "code",
   "execution_count": null,
   "metadata": {},
   "outputs": [],
   "source": [
    "plt.plot(s_vals, [ prof_t_s(s_val) for s_val in s_vals ], label='uncertain b')\n",
    "plt.plot(s_vals, [ t_s(s_val, b4) for s_val in s_vals ], linestyle='--', label='fixed b')\n",
    "plt.xlabel('s')\n",
    "plt.ylabel('prof_t_s')\n",
    "plt.axhline(0)\n",
    "plt.axhline(1, linestyle=':')\n",
    "plt.legend();"
   ]
  },
  {
   "cell_type": "markdown",
   "metadata": {},
   "source": [
    "If everything works as expected, you should get the best fit as before, but the size of the confidence interval goes up since now the background adds a new source of uncertainty. As before, we could compute the crossings with $t=1$ to get the precise values of the uncertainties in each case.\n",
    "\n",
    "To see a bit better what is happening, we can check the values of the best-fit $b$ for different $s$ values:"
   ]
  },
  {
   "cell_type": "code",
   "execution_count": null,
   "metadata": {},
   "outputs": [],
   "source": [
    "print('b4 = ', b4)\n",
    "print('best_fit_b (2.7) =', scipy.optimize.minimize_scalar(lambda b : lambda_sb(s_val=2.7,b_val=b), bracket=(30,50)).x)\n",
    "print('best_fit_b (-10) =', scipy.optimize.minimize_scalar(lambda b : lambda_sb(s_val=-10,b_val=b), bracket=(30,50)).x)\n",
    "print('best_fit_b (20) =', scipy.optimize.minimize_scalar(lambda b : lambda_sb(s_val=20,b_val=b), bracket=(30,50)).x)"
   ]
  },
  {
   "cell_type": "markdown",
   "metadata": {},
   "source": [
    "At the best-fit point $s=2.7$, the best-fit background is the nominal one. However if we take a lower $s$ value $s=-10$, we get a higher best-fit $b$. And if we push $s$ up, $b$ goes down. What happens is that $b$ is adjusting to $s$, and partially compensating for the the fact that these values of $s$ don't quite agree with the data. This extra adjustment makes it more difficult to exclude values of $s$ away from $\\hat{s}$, so that the allowed range of $s$ gets larger -- and therefore the uncertainties get larger as well."
   ]
  },
  {
   "cell_type": "markdown",
   "metadata": {},
   "source": [
    "## 4. Bayesian methods: simple case\n",
    "\n",
    "The methods we have seen so far are *frequentist*. This in effect means that there are 2 difference classes of parameters\n",
    "* Observables, which are randomly given by the experiment.\n",
    "* Parameters, which always have a unique, fixed value -- which is known, or more often unknown.\n",
    "\n",
    "There is another class of methods, *Bayesian* methods, which have a different take on measurement. In this approach, everything is random:\n",
    "* Observables are random as before\n",
    "* Parameters are also considered random, with the associated PDF used to quantify the uncertainty on their values.\n",
    "\n",
    "So for instance, for a Gaussian measurement:\n",
    "* The frequentist approach is to say $s = 2 +/- 3$, meaning that the interval $[-1, 5]$ has a 68% chance of containing the true value of $s$\n",
    "* The Bayesian approach is to say that $s \\sim G(2, 3)$, where the Gaussian encodes the same information.\n",
    "\n",
    "One thing to note is that in the frequentist setting, \"$[-1, 5]$ has a 68% chance of containing the true value of $s$\" is a statement on the interval itself, which is defined for a given experiment: another experiment would find another interval, and 68% of these intervals are guaranteed to contain the true value. For the Bayesian approach, the value of $s$ is itself random, and the experiment is just a way to gather more information on its distribution.\n",
    "\n",
    "The fundamental tool of Bayesian inference is Bayes' theorem. It can be written as\n",
    "$$\n",
    "P(s) \\propto L(s; n) \\pi(s)\n",
    "$$\n",
    "where \n",
    "* $\\pi(s)$ is the *prior* PDF -- a PDF giving the knowledge of $s$ that we had before the experiment\n",
    "* $L(s;n)$ is the usual likelihood\n",
    "* $P(s)$ is the *posterior* PDF on $s$, i.e. the distribution that encodes our knowledge of $s$ including the experimental information.\n",
    "\n",
    "A limit on $s$ can then be set by integrating the posterior $P(s)$ and finding $s_{up}$ so that $\\int^{s_{up}} P(s) ds = 95\\%$.\n",
    "\n",
    "Consider the example we had before:"
   ]
  },
  {
   "cell_type": "code",
   "execution_count": null,
   "metadata": {},
   "outputs": [],
   "source": [
    "plt.bar(x[4], sb4, color='orange', label='s=30')\n",
    "plt.bar(x[4], b4, color='b', yerr=np.sqrt(b_only[4]), label='b only')\n",
    "plt.scatter(x[4], n4, zorder=10, color='k')\n",
    "plt.xlabel('bin number')\n",
    "plt.ylabel('Total expected yield')\n",
    "plt.legend();"
   ]
  },
  {
   "cell_type": "markdown",
   "metadata": {},
   "source": [
    "and assume we have a flat prior on $s$, $\\pi(s) = k$. Flat priors are often used in Bayesian applications, since they provide a relatively unbiased starting point.\n",
    "(Note that technically the flat distribution is not well defined if the range of $s$ is infinite, but this won't crea te problems here).\n",
    "\n",
    "Now we can derive the upper limit:"
   ]
  },
  {
   "cell_type": "code",
   "execution_count": null,
   "metadata": {},
   "outputs": [],
   "source": [
    "def p_s(s_val) :\n",
    "    return scipy.stats.poisson.pmf(n4, s_val + b4)\n",
    "\n",
    "import scipy.integrate\n",
    "\n",
    "# Define the integral of p_s\n",
    "def integral_s(s_val) :\n",
    "    pass # ==> Integrate p_s over s, starting from -25\n",
    "\n",
    "# Plot p_s and its integral\n",
    "s_vals = np.linspace(-20,30,50)\n",
    "plt.subplot(121)\n",
    "plt.plot(s_vals, [ p_s(s_val) for s_val in s_vals ])\n",
    "plt.subplot(122)\n",
    "plt.plot(s_vals, [ integral_s(s_val) for s_val in s_vals ])\n",
    "\n",
    "# Compute the limit\n",
    "s_limit = # compute the limit as the value of s where the integral reaches 95%\n",
    "print('Bayesian limit =', s_limit);"
   ]
  },
  {
   "cell_type": "markdown",
   "metadata": {},
   "source": [
    "## 4. Bayesian methods: nuisance parameters\n",
    "\n",
    "Models usually also include nuisance parameters. For instance we considered a one-bin model where the background was only defined up to an uncertainty, so that the full likelihood is\n",
    "$$\n",
    "L(s, b) = P(n_4; s_4 + b_4) G(b^{\\text{aux}}, b_4, \\sigma_b)\n",
    "$$\n",
    "\n",
    "The way to treat this in a Bayesian way is to integrate over the nuisance parameters: formally\n",
    "$$\n",
    "P(s) \\propto \\int L(s, b; n) \\pi(s) G(b) db\n",
    "$$\n",
    "So that the constraint becomes the prior PDF of $b$. Using an uncertainty of $5$ on the background, and a central value equal to $b_4$, we have"
   ]
  },
  {
   "cell_type": "code",
   "execution_count": null,
   "metadata": {},
   "outputs": [],
   "source": [
    "def p_sb(s_val, b_val) :\n",
    "  return scipy.stats.poisson.pmf(n4, s_val + b_val)*scipy.stats.norm.pdf(b_val, loc=b4, scale=5)\n",
    "\n",
    "def integral_intb(s_val) :\n",
    "    pass # ==> first integrate over b to marginalize over this nuisance parameter. Use the range [30, 70]\n",
    "\n",
    "def integral_sb(s_val) :\n",
    "    pass # ==> Now integrate on s as well, from -25 to s_val as before\n",
    "\n",
    "# Plot the result\n",
    "s_vals = np.linspace(-20,80,51)\n",
    "b_vals = np.linspace(25,55,31)\n",
    "s_mesh,b_mesh = np.meshgrid(s_vals, b_vals)\n",
    "plt.subplot(121)\n",
    "plt.contour(s_mesh, b_mesh, p_sb(s_mesh, b_mesh) )\n",
    "plt.xlabel('s')\n",
    "plt.ylabel('b')\n",
    "plt.subplot(122)\n",
    "plt.plot(s_vals, [ integral_intb(s_val) for s_val in s_vals ], label='marginalized b')\n",
    "plt.plot(s_vals, [ p_s(s_val) for s_val in s_vals ], label='fixed b');"
   ]
  },
  {
   "cell_type": "code",
   "execution_count": null,
   "metadata": {},
   "outputs": [],
   "source": [
    "# Plot the integral over s, marginalized over b\n",
    "plt.plot(s_vals, [ integral_sb(s_val) for s_val in s_vals ]);\n",
    "# ==> Compute the limit as the point where this reaches 95%\n",
    "print('Bayesian limit =', s_limit)"
   ]
  },
  {
   "cell_type": "markdown",
   "metadata": {},
   "source": [
    "The limit should be slightly larger than in the no-systematics case."
   ]
  },
  {
   "cell_type": "code",
   "execution_count": null,
   "metadata": {},
   "outputs": [],
   "source": []
  }
 ],
 "metadata": {
  "kernelspec": {
   "display_name": "Python 3 (ipykernel)",
   "language": "python",
   "name": "python3"
  },
  "language_info": {
   "codemirror_mode": {
    "name": "ipython",
    "version": 3
   },
   "file_extension": ".py",
   "mimetype": "text/x-python",
   "name": "python",
   "nbconvert_exporter": "python",
   "pygments_lexer": "ipython3",
   "version": "3.8.5"
  }
 },
 "nbformat": 4,
 "nbformat_minor": 4
}
