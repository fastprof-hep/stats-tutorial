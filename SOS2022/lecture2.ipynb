{
 "cells": [
  {
   "cell_type": "markdown",
   "metadata": {},
   "source": [
    "# **Classical interval estimation, limits, systematics Lecture 2 : exercises notebook**"
   ]
  },
  {
   "cell_type": "markdown",
   "metadata": {},
   "source": [
    "This is the companion notebook to lecture 1 in the _Classical interval estimation, limits and systematics_ course, covering the following topics:\n",
    "\n",
    "1. Parameter estimation using likelihood methods\n",
    "3. Maximum likelihood in the Gaussian case and chi2\n",
    "4. Hypothesis testing basics\n",
    "\n",
    "First perform the usual imports:"
   ]
  },
  {
   "cell_type": "code",
   "execution_count": 11,
   "metadata": {},
   "outputs": [],
   "source": [
    "import numpy as np\n",
    "import scipy.stats\n",
    "from matplotlib import pyplot as plt"
   ]
  },
  {
   "cell_type": "markdown",
   "metadata": {},
   "source": [
    "## 1. Parameter estimation using likelihood methods"
   ]
  },
  {
   "cell_type": "markdown",
   "metadata": {},
   "source": [
    "In the previous lecture, we have applied hypothesis testing to a bin-counting experiment:"
   ]
  },
  {
   "cell_type": "code",
   "execution_count": 14,
   "metadata": {},
   "outputs": [
    {
     "data": {
      "image/png": "[encoded data removed]",
      "text/plain": [
       "<Figure size 432x288 with 1 Axes>"
      ]
     },
     "metadata": {
      "needs_background": "light"
     },
     "output_type": "display_data"
    }
   ],
   "source": [
    "nbins = 10\n",
    "x = np.linspace(0.5, nbins - 0.5, nbins)\n",
    "\n",
    "# The background follows a linear shape\n",
    "b_yields = np.array([ (1 - i/2/nbins) for i in range(0, nbins) ])\n",
    "b_yields *= b_yields/np.sum(b_yields)\n",
    "\n",
    "# The signal shape is a peak\n",
    "s_yields = np.zeros(nbins)\n",
    "s_yields[3:7] = [ 0.1, 0.4, 0.4, 0.1 ]\n",
    "\n",
    "# Now generate some data for s=10\n",
    "s = 10\n",
    "b = 500\n",
    "s_and_b = s*s_yields + b*b_yields\n",
    "b_only = b*b_yields\n",
    "np.random.seed(1) # make sure we always generate the same\n",
    "data = [ np.random.poisson(s*s_yield + b*b_yield) for s_yield, b_yield in zip(s_yields, b_yields) ]\n",
    "\n",
    "# And define the model for s=30\n",
    "s30_and_b = 30*s_yields + b*b_yields\n",
    "\n",
    "# And finally plot everything\n",
    "plt.bar(x, s30_and_b, color='orange', label='s=30')\n",
    "plt.bar(x, b_only, color='b', yerr=np.sqrt(b_only), label='b only')\n",
    "plt.scatter(x, data, zorder=10, color='k')\n",
    "plt.xlabel('bin number')\n",
    "plt.ylabel('Total expected yield')\n",
    "plt.legend();"
   ]
  },
  {
   "cell_type": "markdown",
   "metadata": {},
   "source": [
    "There are some fluctuations in the data, but it seems that the $s$ is fairly small compared to the $s=30$ shown in orange (note that we cheated and generated the data for $s=10$, so this is not unexpected!). We can use the tools defined in the previous lecture to find the best-fit $s$:"
   ]
  },
  {
   "cell_type": "code",
   "execution_count": 15,
   "metadata": {},
   "outputs": [],
   "source": [
    "# ==> First define the log-likelihood function lambda = -2 log L as in the previous class \n",
    "def lambda_s(s_hypo, data) :\n",
    "    pass # Your code here to compute the log-likelihood of the model with s=s_hypo for the provided dataset\n",
    "\n",
    "from scipy.optimize import minimize_scalar\n",
    "\n",
    "# ==> Minimize it for the observed data, using minimize_scalar as before (use a python lambda construct to set dataset=data in lambda_s)\n"
   ]
  },
  {
   "cell_type": "markdown",
   "metadata": {},
   "source": [
    "We are going to compute confidence intervals on the a signal yield $s$ use the likelihood-based discriminant\n",
    "$$\n",
    "t(s) = -2 \\log \\frac{L(s)}{L(\\hat{s})}\n",
    "$$\n",
    "following the same principle as for discovery. Define it:"
   ]
  },
  {
   "cell_type": "code",
   "execution_count": 16,
   "metadata": {},
   "outputs": [],
   "source": [
    "def t_s(s_test) :\n",
    "    pass # ==> Replace this with the definition, in terms of lambda_s and the s_hat computed in section 1"
   ]
  },
  {
   "cell_type": "markdown",
   "metadata": {},
   "source": [
    "Now plot it:"
   ]
  },
  {
   "cell_type": "code",
   "execution_count": 17,
   "metadata": {},
   "outputs": [],
   "source": [
    "s_vals = np.arange(-10,20,1)\n",
    "# ==> Plot t_s(s) for the s values above"
   ]
  },
  {
   "cell_type": "markdown",
   "metadata": {},
   "source": [
    "You should find a parabola, which is expected for a near-Gaussian case. A quick computation will show that for a Gaussian likelihood $\\hat{s} \\sim G(s, \\sigma_s)$, one has\n",
    "$$\n",
    "t(s) = \\left(\\frac{s - \\hat{s}}{\\sigma_s}\\right)^2\n",
    "$$\n",
    "which explains the parabola.\n",
    "\n",
    "In this Gaussian case, the $\\pm 1\\sigma$ uncertainties are reached for $t(s)=1$. We will assume that this still holds true also in not-so-Gaussian cases, so that we **define** the uncertainties using the crossings with $t(s)=1$:"
   ]
  },
  {
   "cell_type": "code",
   "execution_count": 10,
   "metadata": {},
   "outputs": [
    {
     "data": {
      "image/png": "[encoded data removed]",
      "text/plain": [
       "<Figure size 432x288 with 1 Axes>"
      ]
     },
     "metadata": {
      "needs_background": "light"
     },
     "output_type": "display_data"
    }
   ],
   "source": [
    "# ==> Plot t(s) again\n",
    "\n",
    "# Draw the t(s) = 1 line for illustration\n",
    "plt.axhline(1, linestyle='--');\n",
    "\n",
    "# ==> Now compute the s values for which t(s)=1, which will give the endpoints of the confidence intervals\n",
    "#     You can use the function scipy.optimize.root_scalar(func, bracket=(lo, hi)).root\n",
    "#     which returns the root of the function 'func' over the interval (lo, hi)\n",
    "#     Note that lambda s : t_s(s) - 1 can be used to define an appropriate 'func' in our case"
   ]
  },
  {
   "cell_type": "markdown",
   "metadata": {},
   "source": [
    "This defines a type of confidence intervals called *likelihood intervals* which are not quite exact in the non-Gaussian case but are an excellent approximation to the exact solution. This is because some non-Gaussian effects are accounted for in the expression of $t(s)$, which here uses a Poisson expression, so this is a better approximation than just assuming that everything is Gaussian. This type of technique is usually referred to as an *asymptotic approximation*, and we'll see a similar example below for the limits."
   ]
  },
  {
   "cell_type": "code",
   "execution_count": null,
   "metadata": {},
   "outputs": [],
   "source": []
  },
  {
   "cell_type": "markdown",
   "metadata": {},
   "source": [
    "## 2.  Limit-setting using likelihoods\n",
    "\n",
    "Measuring the siAsgnal is useful when it is large, but when it is very small it can be more interesting to set an upper limit on it. This means computing the value of the signal yield that is large enough to be excluded with a given confidence level, typically 95%.\n",
    "\n",
    "This \"95%\" means that if we would repeat the experiment many times, the true signal would be below the limit 95% of the time.  This is represented in the picture below, with the shaded area corresponding to 5% of the integral."
   ]
  },
  {
   "cell_type": "code",
   "execution_count": 22,
   "metadata": {},
   "outputs": [
    {
     "data": {
      "image/png": "[encoded data removed]",
      "text/plain": [
       "<Figure size 432x288 with 1 Axes>"
      ]
     },
     "metadata": {
      "needs_background": "light"
     },
     "output_type": "display_data"
    }
   ],
   "source": [
    "n = 50\n",
    "sigma = np.sqrt(n)\n",
    "ns = np.arange(35,85,0.1)\n",
    "plt.plot(ns, scipy.stats.norm.pdf(ns, loc=n + 1.64*sigma, scale=sigma))\n",
    "plt.ylim(0,0.1)\n",
    "plt.xlabel('n')\n",
    "plt.ylabel('P(n)')\n",
    "\n",
    "up = 1\n",
    "shaded_ns = np.arange(35, n, 0.1)\n",
    "plt.fill_between(shaded_ns, scipy.stats.norm.pdf(shaded_ns, loc=n + 1.64*sigma, scale=sigma), alpha=0.5, color='g')\n",
    "#plt.axvline(x=n + 1.64*sigma, linestyle='--', color='k')\n",
    "plt.axvline(x=n, linestyle='--', color='k')\n",
    "#plt.text(n + 1.64*sigma + 2, 0.08, 's95 + b')\n",
    "plt.text(n - 11, 0.08, 'observed n');"
   ]
  },
  {
   "cell_type": "markdown",
   "metadata": {},
   "source": [
    "As it says above, the upper limits is about $1.64\\sigma$ above the observed value, in the Gaussian case. Can you compute this number exactly ?"
   ]
  },
  {
   "cell_type": "code",
   "execution_count": 25,
   "metadata": {},
   "outputs": [],
   "source": [
    "# Use scipy.stats.norm.isf(0.05), the inverse of the survival function"
   ]
  },
  {
   "cell_type": "markdown",
   "metadata": {},
   "source": [
    "Now let's apply limit-setting on the same multi-bin example we already used for interval estimation above. This is justified here, since from the previous section we know the signal is not large -- setting an upper limit makes sense in this situation."
   ]
  },
  {
   "cell_type": "code",
   "execution_count": 26,
   "metadata": {},
   "outputs": [
    {
     "data": {
      "image/png": "[encoded data removed]",
      "text/plain": [
       "<Figure size 432x288 with 1 Axes>"
      ]
     },
     "metadata": {
      "needs_background": "light"
     },
     "output_type": "display_data"
    }
   ],
   "source": [
    "# Plot the model again, for s=30\n",
    "plt.bar(x, s30_and_b, color='orange', label='s=30')\n",
    "plt.bar(x, b_only, color='b', yerr=np.sqrt(b_only), label='b only')\n",
    "plt.scatter(x, data, zorder=10, color='k')\n",
    "plt.xlabel('bin number')\n",
    "plt.ylabel('Total expected yield')\n",
    "plt.legend();"
   ]
  },
  {
   "cell_type": "code",
   "execution_count": null,
   "metadata": {},
   "outputs": [],
   "source": []
  },
  {
   "cell_type": "markdown",
   "metadata": {},
   "source": [
    "As usual, we use the likelihood-based discriminant\n",
    "$$\n",
    "t(s)  = -2 \\log \\frac{L(s)}{L(\\hat{s})}\n",
    "$$\n",
    "\n",
    "The only difference compared to parameter measurement is that we will only consider the positive side of the distribution, $s > \\hat{s}$, since we are looking for an *upper* limit. \n",
    "\n",
    "As we saw before, for the Gaussian case we have\n",
    "$$\n",
    "t(s) = \\left(\\frac{s - \\hat{s}}{\\sigma_s}\\right)^2\n",
    "$$\n",
    "so that the limit is reached for $t(s) = 1.64^2$, where $\\Phi\\left(\\sqrt{t(s)}\\right) = 0.05$\n",
    "\n",
    "As for the intervals, we will assume that the relation above is always valid (even if of course our model is not exactly Gaussian). So we will define our limit $s_{95}$ as  $\\Phi\\left(\\sqrt{t(s_{95})}\\right) = 0.05$. Remember, this still accounts for non-Gaussianity through the expression of $t(s)$, and usually provides an excellent approximation to the true limit. As for the intervals, this is referred to as the *asymptotic* approximation."
   ]
  },
  {
   "cell_type": "code",
   "execution_count": 14,
   "metadata": {},
   "outputs": [],
   "source": [
    "s_vals = np.linspace(10, 50, 100)\n",
    "# ==> plot Phi(sqrt(t_s)) for the values of s above\n",
    "# ==> Find the crossing of the curve above with 0.05, using root_scalar as for the intervals. This defines the 95% CL limit"
   ]
  }
 ],
 "metadata": {
  "kernelspec": {
   "display_name": "Python 3 (ipykernel)",
   "language": "python",
   "name": "python3"
  },
  "language_info": {
   "codemirror_mode": {
    "name": "ipython",
    "version": 3
   },
   "file_extension": ".py",
   "mimetype": "text/x-python",
   "name": "python",
   "nbconvert_exporter": "python",
   "pygments_lexer": "ipython3",
   "version": "3.8.5"
  }
 },
 "nbformat": 4,
 "nbformat_minor": 4
}
