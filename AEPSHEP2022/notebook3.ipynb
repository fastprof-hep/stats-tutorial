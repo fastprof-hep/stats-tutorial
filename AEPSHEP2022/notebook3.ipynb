{
 "cells": [
  {
   "cell_type": "markdown",
   "metadata": {},
   "source": [
    "# **Statistics Lecture 3 : exercises notebook**"
   ]
  },
  {
   "cell_type": "markdown",
   "metadata": {},
   "source": [
    "This is the companion notebook to lecture 3 in the _Practical Statistics_ course, covering the following topics:\n",
    "1. Confidence interval estimation using likelihood methods\n",
    "2. Limit-setting using likelihoods\n",
    "3. Profiling\n",
    "4. Bayesian methods: the simple case\n",
    "5. Bayesian methods: now with nuisance parameters\n",
    "6. An unbinned likelihood example\n",
    "\n",
    "First perform the usual imports:"
   ]
  },
  {
   "cell_type": "code",
   "execution_count": 1,
   "metadata": {},
   "outputs": [],
   "source": [
    "import numpy as np\n",
    "import scipy.stats\n",
    "from matplotlib import pyplot as plt"
   ]
  },
  {
   "cell_type": "markdown",
   "metadata": {},
   "source": [
    "## 1. Confidence interval estimation using likelihood methods"
   ]
  },
  {
   "cell_type": "markdown",
   "metadata": {},
   "source": [
    "In the previous lecture, we have applied hypothesis testing to a bin-counting experiment:"
   ]
  },
  {
   "cell_type": "code",
   "execution_count": 2,
   "metadata": {},
   "outputs": [
    {
     "data": {
      "image/png": "[encoded data removed]",
      "text/plain": [
       "<Figure size 432x288 with 1 Axes>"
      ]
     },
     "metadata": {
      "needs_background": "light"
     },
     "output_type": "display_data"
    }
   ],
   "source": [
    "nbins = 10\n",
    "x = np.linspace(0, nbins - 1, nbins)\n",
    "\n",
    "# The background follows a linear shape\n",
    "b_yields = np.array([ (1 - i/2/nbins) for i in range(0, nbins) ])\n",
    "b_fracs = b_yields/np.sum(b_yields)\n",
    "\n",
    "# The signal shape is a peak\n",
    "s_fracs = np.zeros(nbins)\n",
    "s_fracs[3:7] = [ 0.1, 0.4, 0.4, 0.1 ]\n",
    "\n",
    "# Now generate some data for s=10\n",
    "s = 10\n",
    "b = 500\n",
    "s_and_b = s*s_fracs + b*b_fracs\n",
    "b_only = b*b_fracs\n",
    "np.random.seed(102) # make sure we always generate the same\n",
    "data = [ np.random.poisson(s*s_frac + b*b_frac) for s_frac, b_frac in zip(s_fracs, b_fracs) ]\n",
    "\n",
    "# And define the model for s=30\n",
    "s30_and_b = 30*s_fracs + b*b_fracs\n",
    "\n",
    "# And finally plot everything\n",
    "plt.bar(x, s30_and_b, color='orange', label='s=30')\n",
    "plt.bar(x, b_only, color='b', yerr=np.sqrt(b_only), label='b only')\n",
    "plt.scatter(x, data, zorder=10, color='k')\n",
    "plt.xlabel('bin number')\n",
    "plt.ylabel('Total expected yield')\n",
    "plt.legend();"
   ]
  },
  {
   "cell_type": "markdown",
   "metadata": {},
   "source": [
    "There are some fluctuations in the data, but it seems that the $s$ is a bit smaller than the $s=30$ shown in orange (note that we cheated and generated the data for $s=10$, so this is not unexpected!). We can use the tools defined in the previous lecture to find the best-fit $s$:"
   ]
  },
  {
   "cell_type": "code",
   "execution_count": 3,
   "metadata": {},
   "outputs": [],
   "source": [
    "# ==> First we define the log-likelihood function lambda = -2 log L as in notebook 1\n",
    "def lambda_s(s_hypo, data) :\n",
    "    return sum( [ -2*np.log(scipy.stats.poisson.pmf(n, s_hypo*s_frac + b*b_frac)) for n, s_frac, b_frac in zip(data, s_fracs, b_fracs) ] )"
   ]
  },
  {
   "cell_type": "markdown",
   "metadata": {},
   "source": [
    "$\\mathbf{\\color{red}{\\rightarrow\\text{Minimize it for the observed data, using minimize_scalar as before}}}$\n",
    "\n",
    "Remember to use `lambda s: lambda_s(s, data)` to get a function of s only.\n"
   ]
  },
  {
   "cell_type": "code",
   "execution_count": 4,
   "metadata": {},
   "outputs": [],
   "source": [
    "from scipy.optimize import minimize_scalar\n",
    "\n",
    "def best_fit_s(data) :\n",
    "    pass # replace with actual code"
   ]
  },
  {
   "cell_type": "markdown",
   "metadata": {},
   "source": [
    "We are going to compute confidence intervals on the a signal yield $s$ use the likelihood-based discriminant\n",
    "$$\n",
    "t(s) = -2 \\log \\frac{L(s)}{L(\\hat{s})}\n",
    "$$\n",
    "following the same principle as for discovery.\n",
    "\n",
    "$\\mathbf{\\color{red}{\\rightarrow\\text{First define $t(s)$ :}}}$"
   ]
  },
  {
   "cell_type": "code",
   "execution_count": 5,
   "metadata": {},
   "outputs": [],
   "source": [
    "def t_s(s) :\n",
    "    pass # replace with actual code"
   ]
  },
  {
   "cell_type": "markdown",
   "metadata": {},
   "source": [
    "$\\mathbf{\\color{red}{\\rightarrow\\text{Now plot it :}}}$"
   ]
  },
  {
   "cell_type": "code",
   "execution_count": 6,
   "metadata": {},
   "outputs": [
    {
     "data": {
      "text/plain": [
       "<matplotlib.lines.Line2D at 0x7f733c550ac0>"
      ]
     },
     "execution_count": 6,
     "metadata": {},
     "output_type": "execute_result"
    },
    {
     "data": {
      "image/png": "[encoded data removed]",
      "text/plain": [
       "<Figure size 432x288 with 1 Axes>"
      ]
     },
     "metadata": {
      "needs_background": "light"
     },
     "output_type": "display_data"
    }
   ],
   "source": [
    "s_vals = np.arange(-20,30,1)\n",
    "plt.plot(s_vals, [ t_s(s_val) for s_val in s_vals ])\n",
    "plt.xlabel('s')\n",
    "plt.ylabel('t(s)')\n",
    "plt.axhline(0, color='k')"
   ]
  },
  {
   "cell_type": "markdown",
   "metadata": {},
   "source": [
    "You should find a parabola, which is expected for a near-Gaussian case. A quick computation will show that for a Gaussian likelihood $\\hat{s} \\sim G(s, \\sigma_s)$, one has\n",
    "$$\n",
    "t(s) = \\left(\\frac{s - \\hat{s}}{\\sigma_s}\\right)^2\n",
    "$$\n",
    "which explains the parabola.\n",
    "\n",
    "In this Gaussian case, the $\\pm 1\\sigma$ uncertainties are reached for $t(s)=1$. We will assume that this still holds true also in not-so-Gaussian cases, so that we **define** the uncertainties using the crossings with $t(s)=1$:\n",
    "\n",
    "$\\mathbf{\\color{red}{\\rightarrow\\text{Plot t(s) again, and draw the $t(s) = 1$ line for illustration: :}}}$"
   ]
  },
  {
   "cell_type": "code",
   "execution_count": 7,
   "metadata": {},
   "outputs": [
    {
     "data": {
      "image/png": "[encoded data removed]",
      "text/plain": [
       "<Figure size 432x288 with 1 Axes>"
      ]
     },
     "metadata": {
      "needs_background": "light"
     },
     "output_type": "display_data"
    }
   ],
   "source": [
    "plt.plot(s_vals, [ t_s(s_val) for s_val in s_vals ])\n",
    "plt.xlabel('s')\n",
    "plt.ylabel('t(s)')\n",
    "plt.axhline(0, color='k')\n",
    "plt.axhline(1, linestyle='--');"
   ]
  },
  {
   "cell_type": "markdown",
   "metadata": {},
   "source": [
    "$\\mathbf{\\color{red}{\\rightarrow\\text{Now compute the s values for which t(s)=1, which will give the endpoints of the confidence intervals.}}}$\n",
    "\n",
    "You can use the function` scipy.optimize.root_scalar(func, bracket=(lo, hi)).root` which returns the root of the function `func` over the interval `(lo, hi)`. Note that `lambda s : t_s(s) - 1` can be used to define an appropriate `func` in our case."
   ]
  },
  {
   "cell_type": "code",
   "execution_count": 8,
   "metadata": {},
   "outputs": [
    {
     "name": "stdout",
     "output_type": "stream",
     "text": [
      "positive edge = -999, negative edge = -999\n",
      "68.3% interval : -999 + 0 - 0\n"
     ]
    }
   ],
   "source": [
    "s_hat = -999  # replace with actual code\n",
    "s_neg = -999  # replace with actual code\n",
    "s_pos = -999  # replace with actual code\n",
    "print('positive edge = %g, negative edge = %g' % (s_pos, s_neg))\n",
    "print ('68.3% interval :', s_hat, '+', s_pos - s_hat, '-', s_hat - s_neg)"
   ]
  },
  {
   "cell_type": "markdown",
   "metadata": {},
   "source": [
    "This defines a type of confidence intervals called *likelihood intervals* which are not quite exact in the non-Gaussian case but are an excellent approximation to the exact solution. This is because some non-Gaussian effects are accounted for in the expression of $t(s)$, which here uses a Poisson expression, so this is a better approximation than just assuming that everything is Gaussian. This type of technique is usually referred to as an *asymptotic approximation*, and we'll see a similar example below for the limits."
   ]
  },
  {
   "cell_type": "markdown",
   "metadata": {},
   "source": [
    "## 2.  Limit-setting using likelihoods\n",
    "\n",
    "Measuring the signal is useful when it is large, but when it is very small it can be more interesting to set an upper limit on it. This means computing the value of the signal yield that is large enough to be excluded with a given confidence level, typically 95%.\n",
    "\n",
    "This \"95%\" means that if we would repeat the experiment many times, the true signal would be below the limit 95% of the time.  This is represented in the picture below, with the shaded area corresponding to 5% of the integral."
   ]
  },
  {
   "cell_type": "code",
   "execution_count": 9,
   "metadata": {},
   "outputs": [
    {
     "data": {
      "image/png": "[encoded data removed]",
      "text/plain": [
       "<Figure size 432x288 with 1 Axes>"
      ]
     },
     "metadata": {
      "needs_background": "light"
     },
     "output_type": "display_data"
    }
   ],
   "source": [
    "n = 50\n",
    "sigma = np.sqrt(n)\n",
    "ns = np.arange(35,85,0.1)\n",
    "plt.plot(ns, scipy.stats.norm.pdf(ns, loc=n + 1.64*sigma, scale=sigma))\n",
    "plt.ylim(0,0.1)\n",
    "plt.xlabel('n')\n",
    "plt.ylabel('P(n)')\n",
    "\n",
    "up = 1\n",
    "shaded_ns = np.arange(35, n, 0.1)\n",
    "plt.fill_between(shaded_ns, scipy.stats.norm.pdf(shaded_ns, loc=n + 1.64*sigma, scale=sigma), alpha=0.5, color='g')\n",
    "#plt.axvline(x=n + 1.64*sigma, linestyle='--', color='k')\n",
    "plt.axvline(x=n, linestyle='--', color='k')\n",
    "#plt.text(n + 1.64*sigma + 2, 0.08, 's95 + b')\n",
    "plt.text(n - 11, 0.08, 'observed n');"
   ]
  },
  {
   "cell_type": "markdown",
   "metadata": {},
   "source": [
    "As it says above, the upper limits is about $1.64\\sigma$ above the observed value, in the Gaussian case.\n",
    "\n",
    "$\\mathbf{\\color{red}{\\rightarrow\\text{Can you compute this number exactly ?}}}$"
   ]
  },
  {
   "cell_type": "code",
   "execution_count": 10,
   "metadata": {},
   "outputs": [
    {
     "name": "stdout",
     "output_type": "stream",
     "text": [
      "-999\n"
     ]
    }
   ],
   "source": [
    "# First find the position on the Gaussian corresponding to a 5%  quantile\n",
    "z_5 = -999  # replace with actual code\n",
    "print(z_5)\n"
   ]
  },
  {
   "cell_type": "markdown",
   "metadata": {},
   "source": [
    "Now let's apply limit-setting on the same multi-bin example we already used for interval estimation above. This is justified here, since from the previous section we know the signal is not large -- setting an upper limit makes sense in this situation."
   ]
  },
  {
   "cell_type": "code",
   "execution_count": 11,
   "metadata": {},
   "outputs": [
    {
     "data": {
      "image/png": "[encoded data removed]",
      "text/plain": [
       "<Figure size 432x288 with 1 Axes>"
      ]
     },
     "metadata": {
      "needs_background": "light"
     },
     "output_type": "display_data"
    }
   ],
   "source": [
    "# Plot the model again, for s=30\n",
    "plt.bar(x, s30_and_b, color='orange', label='s=30')\n",
    "plt.bar(x, b_only, color='b', yerr=np.sqrt(b_only), label='b only')\n",
    "plt.scatter(x, data, zorder=10, color='k')\n",
    "plt.xlabel('bin number')\n",
    "plt.ylabel('Total expected yield')\n",
    "plt.legend();"
   ]
  },
  {
   "cell_type": "markdown",
   "metadata": {},
   "source": [
    "As usual, we use the likelihood-based discriminant\n",
    "$$\n",
    "t(s)  = -2 \\log \\frac{L(s)}{L(\\hat{s})}\n",
    "$$\n",
    "\n",
    "The only difference compared to parameter measurement is that we will only consider the positive side of the distribution, $s > \\hat{s}$, since we are looking for an *upper* limit. \n",
    "\n",
    "As we saw before, for the Gaussian case we have\n",
    "$$\n",
    "t(s) = \\left(\\frac{s - \\hat{s}}{\\sigma_s}\\right)^2\n",
    "$$\n",
    "so that the limit is reached for $t(s) = 1.64^2$, where $\\Phi\\left(\\sqrt{t(s)}\\right) = 0.05$\n",
    "\n",
    "As for the intervals, we will assume that the relation above is always valid (even if of course our model is not exactly Gaussian). So we will define our limit $s_{95}$ by the relation $\\Phi\\left(\\sqrt{t(s_{95})}\\right) = 0.05$. Remember, this still accounts for non-Gaussianity through the expression of $t(s)$, and usually provides an excellent approximation to the true limit. As for the intervals, this is referred to as the *asymptotic* approximation."
   ]
  },
  {
   "cell_type": "code",
   "execution_count": 12,
   "metadata": {},
   "outputs": [],
   "source": [
    "s_vals = np.linspace(10, 40, 100)"
   ]
  },
  {
   "cell_type": "markdown",
   "metadata": {},
   "source": [
    "$\\mathbf{\\color{red}{\\rightarrow\\text{Plot } \\Phi\\left(\\sqrt{t(s)}\\right) \\text{ for the values of s above and compute the crossing with 0.05.}}}$\n",
    "\n",
    "Find the crossing of the curve above with 0.05, using the `scipy.optimize.root_scalar` function as for the intervals. This defines the 95% CL limit."
   ]
  },
  {
   "cell_type": "code",
   "execution_count": 13,
   "metadata": {},
   "outputs": [
    {
     "name": "stdout",
     "output_type": "stream",
     "text": [
      "-999\n"
     ]
    },
    {
     "data": {
      "image/png": "[encoded data removed]",
      "text/plain": [
       "<Figure size 432x288 with 1 Axes>"
      ]
     },
     "metadata": {
      "needs_background": "light"
     },
     "output_type": "display_data"
    }
   ],
   "source": [
    "pass # replace with plotting code\n",
    "plt.xlabel('s')\n",
    "plt.ylabel('p-value')\n",
    "plt.axhline(0.05, linestyle='--', color='k')\n",
    "limit = -999 # replace with actual code to compute the crossing with 0.05\n",
    "print(limit)"
   ]
  },
  {
   "cell_type": "markdown",
   "metadata": {},
   "source": [
    "## 3. Profiling"
   ]
  },
  {
   "cell_type": "markdown",
   "metadata": {},
   "source": [
    "We have discussed 3 types of statistical results:\n",
    "* Testing for discovery\n",
    "* Computing confidence intervals for parameters (central value +/- uncertainty)\n",
    "* Setting upper limits\n",
    "\n",
    "For simplicity, all this was done using models with only 1 parameter (the signal $s$), which was the *parameter of interest*. Models usually also have additional *nuisance parameters* which aren't interesting in themselves, but need to be included to describe the data.\n",
    "\n",
    "These parameters need to be included in the treatment, but fortunately this is quite easy in the likelihood ratio framework. The basic quantity we used before was\n",
    "$$\n",
    "t(s) = -2 \\log \\frac{L(s)}{L(\\hat{s})}\n",
    "$$\n",
    "\n",
    "This allows to compare 2 hypotheses:\n",
    "* The free hypothesis $\\hat{s}$ which corresponds to the best-fit $s$ in the data.\n",
    "* The fixed hypothesis $s$ (for instance $s=0$ for discoveries)\n",
    "\n",
    "If we have an additional nuisance parameter $\\theta$, the likelihood is now a function of both parameters: $L(s, \\theta)$. How do we set $\\theta$ ? The interesting answer is that in both cases, we use the best-fit value of $\\theta$ :\n",
    "* For the free hypothesis $\\hat{s}$, we use $\\hat{\\theta}$, the best-fit value of $\\theta$.\n",
    "* For the fixed hypothesis $s$, we use $\\hat{\\hat{\\theta}}(s)$, the best-fit value of $\\theta$ at a fixed $s$.\n",
    "\n",
    "So in the end we use\n",
    "$$\n",
    "t(s) = -2 \\log \\frac{L(s, \\hat{\\hat{\\theta}}(s))}{L(\\hat{s},\\hat{\\theta})}\n",
    "$$\n",
    "with the appropriate best-fit values. This is now called the *profile likelihood*.\n",
    "\n",
    "A very nice feature of this is that $t(s)$ is still a function only of $s$, so we can perform the rest of the computation in the same way as before. The only difference is that we need to compute best-fit values for $\\theta$ in order to compute the appropriate ilikelihood values.\n"
   ]
  },
  {
   "cell_type": "markdown",
   "metadata": {},
   "source": [
    "We reuse the same example as in the previous sections"
   ]
  },
  {
   "cell_type": "code",
   "execution_count": 14,
   "metadata": {},
   "outputs": [
    {
     "data": {
      "image/png": "[encoded data removed]",
      "text/plain": [
       "<Figure size 432x288 with 1 Axes>"
      ]
     },
     "metadata": {
      "needs_background": "light"
     },
     "output_type": "display_data"
    }
   ],
   "source": [
    "plt.bar(x, s30_and_b, color='orange', label='s=30')\n",
    "plt.bar(x, b_only, color='b', yerr=np.sqrt(b_only), label='b only')\n",
    "plt.scatter(x, data, zorder=10, color='k')\n",
    "plt.xlabel('bin number')\n",
    "plt.ylabel('Total expected yield')\n",
    "plt.legend();"
   ]
  },
  {
   "cell_type": "markdown",
   "metadata": {},
   "source": [
    "For simplicity, we will focus on the single-bin measurement in bin 4:"
   ]
  },
  {
   "cell_type": "code",
   "execution_count": 15,
   "metadata": {},
   "outputs": [
    {
     "data": {
      "image/png": "[encoded data removed]",
      "text/plain": [
       "<Figure size 432x288 with 1 Axes>"
      ]
     },
     "metadata": {
      "needs_background": "light"
     },
     "output_type": "display_data"
    }
   ],
   "source": [
    "sb4 = s30_and_b[4]\n",
    "b4 = b_only[4]\n",
    "n4 = data[4]\n",
    "plt.bar(x[4], sb4, color='orange', label='s=30')\n",
    "plt.bar(x[4], b4, color='b', yerr=np.sqrt(b_only[4]), label='b only')\n",
    "plt.scatter(x[4], n4, zorder=10, color='k')\n",
    "plt.xlabel('bin number')\n",
    "plt.ylabel('Total expected yield')\n",
    "plt.legend();"
   ]
  },
  {
   "cell_type": "markdown",
   "metadata": {},
   "source": [
    "As in the previous exercise, we can measure $s$ here using the likelihood technique, computing the crossings with $t(s)=1$."
   ]
  },
  {
   "cell_type": "markdown",
   "metadata": {},
   "source": [
    "$\\mathbf{\\color{red}{\\rightarrow\\text{Let's do it: compute the crossings}}}$\n",
    "\n",
    "The profile likelihood `lambda_s` is just $-2\\log$ of the Poisson in bin 4:"
   ]
  },
  {
   "cell_type": "code",
   "execution_count": 16,
   "metadata": {},
   "outputs": [],
   "source": [
    "s_vals = np.arange(-10,15,1)\n",
    "\n",
    "def lambda_s(s_val,b_val) : \n",
    "   return -2*np.log(scipy.stats.poisson.pmf(n4, s_val+b_val))\n"
   ]
  },
  {
   "cell_type": "markdown",
   "metadata": {},
   "source": [
    "Now the exercise is to define the profile likelihood `t_s`. Remember that this needs to evaluate `lambda_s` at $\\hat{s}$, so the first step is to compute it by minimizing `lambda_s` with respect to `s`."
   ]
  },
  {
   "cell_type": "code",
   "execution_count": 17,
   "metadata": {},
   "outputs": [
    {
     "data": {
      "text/plain": [
       "<matplotlib.lines.Line2D at 0x7f733c35c2b0>"
      ]
     },
     "execution_count": 17,
     "metadata": {},
     "output_type": "execute_result"
    },
    {
     "data": {
      "image/png": "[encoded data removed]",
      "text/plain": [
       "<Figure size 432x288 with 1 Axes>"
      ]
     },
     "metadata": {
      "needs_background": "light"
     },
     "output_type": "display_data"
    }
   ],
   "source": [
    "def t_s(s, b) :\n",
    "    best_fit_s = -999 # code to minimize lambda_s here\n",
    "    return -999       # code to compute t_s here\n",
    "    \n",
    "plt.plot(s_vals, [ t_s(s_val, b4) for s_val in s_vals ], linestyle='--')\n",
    "plt.xlabel('s')\n",
    "plt.ylabel('t(s)')\n",
    "plt.axhline(0)\n",
    "plt.axhline(1, linestyle=':')\n"
   ]
  },
  {
   "cell_type": "markdown",
   "metadata": {},
   "source": [
    "We introduce a new ingredient: the background level $b_4$ is now not a fixed number, but only known up to an uncertainty, say $\\sigma_b = \\pm 2$. We assume here that it is Gaussian-distributed, so that the full likelihood is\n",
    "$$\n",
    "L(s, b) = P(n_4; s_4 + b_4) G(b^{\\text{aux}}, b_4, \\sigma_b)\n",
    "$$\n",
    "\n",
    "where the first term is the Poisson PDF we had before, and the Gaussian is a new term giving the PDF for $b_4$. The central value of the $b_4$ constraint is $b^{\\text{aux}}$, which is a kind of observable: we can assume that our knowledge of $b_4$ comes from a separate \"auxiliary\" experiment which observed $b^{\\text{aux}}$ with an uncertainty $\\sigma_b$, and we use this to constrain $b_4$ in the experiment here. \n",
    "\n",
    "In practice the constraint on $b_4$ can also come from Monte-Carlo simulation, an independent theory prediction, etc., but in this case we can anyway use the same formalism, and set $b^{\\text{aux}}$ to the nominal prediction and $\\sigma_b$ to its uncertainty.\n",
    "\n",
    "Here we'll set $b^{\\text{aux}}$ to our original background value, which is what we take as nominal:"
   ]
  },
  {
   "cell_type": "code",
   "execution_count": 18,
   "metadata": {},
   "outputs": [],
   "source": [
    "baux = b_only[4]\n",
    "sigmab = 3"
   ]
  },
  {
   "cell_type": "markdown",
   "metadata": {},
   "source": [
    "Now we compute the profile likelihood, with $s$ as our parameter of interest, and $b$ the nuisance parameter. \n",
    "\n",
    "First we define $\\lambda(s,b) = -2\\log L(s,b)$, where $L(s,b)$ is the product of two terms:\n",
    "* The usual Poisson PDF for the one-bin counting process\n",
    "* The Gaussian representing the constraint on $b$, with an observable $b_{\\text{aux}}$, a mean $b$, and a width $\\sigma_b$.\n",
    "\n",
    "Secondly, we define the *profiled* version of the above, where $b$ is set to its best-fit value. To define it, we first must compute the best-fit $\\hat{\\hat {b}}(s)$ for a given $s$, by minimizing $\\lambda(s,b)$ for a fixed value of $s$. Then the profile likelihood is defined as $\\lambda(s) = -2\\log L(s,\\hat{\\hat {b}}(s))$.\n",
    "\n",
    "Finally, the $t(s)$ function is defined as usual as $t(s) = \\lambda(s) - \\lambda(\\hat{s})$, after computing the best-fit $\\hat{s}$ which minimizes $\\lambda(s)$. \n"
   ]
  },
  {
   "cell_type": "markdown",
   "metadata": {},
   "source": [
    "$\\mathbf{\\color{red}{\\rightarrow\\text{Define the } -2\\log L \\text{ of the bin 4 measurement with the Gaussian constraint}}}$\n",
    "\n",
    "This should be the $-2 \\log L$ computed with $L$ defined as the product of the Poisson PDF for bin 4 times the Gaussian PDF $G(b_{aux}, b, \\sigma_b)$."
   ]
  },
  {
   "cell_type": "code",
   "execution_count": 19,
   "metadata": {},
   "outputs": [],
   "source": [
    "def lambda_sb(s_val,b_val) : \n",
    "    return -999 # replace with real code"
   ]
  },
  {
   "cell_type": "markdown",
   "metadata": {},
   "source": [
    "We now define the profile likelihood: this is for the best-fit value of b, so we have\n"
   ]
  },
  {
   "cell_type": "code",
   "execution_count": 20,
   "metadata": {},
   "outputs": [],
   "source": [
    "def prof_lambda_s(s_val) :\n",
    "    best_fit_b = scipy.optimize.minimize_scalar(lambda b_val : lambda_sb(s_val,b_val), bracket=(30,50)).x\n",
    "    return lambda_sb(s_val, best_fit_b)\n",
    "\n",
    "def prof_t_s(s_val) :\n",
    "    best_fit_s = scipy.optimize.minimize_scalar(prof_lambda_s, bracket=(-10,20)).x\n",
    "    return prof_lambda_s(s_val) - prof_lambda_s(best_fit_s)"
   ]
  },
  {
   "cell_type": "markdown",
   "metadata": {},
   "source": [
    "$\\mathbf{\\color{red}{\\rightarrow\\text{Now plot the scan}}}$"
   ]
  },
  {
   "cell_type": "code",
   "execution_count": 21,
   "metadata": {},
   "outputs": [
    {
     "data": {
      "image/png": "[encoded data removed]",
      "text/plain": [
       "<Figure size 432x288 with 1 Axes>"
      ]
     },
     "metadata": {
      "needs_background": "light"
     },
     "output_type": "display_data"
    }
   ],
   "source": [
    "pass # plotting code here\n",
    "plt.axhline(0)\n",
    "plt.axhline(1, linestyle=':')\n",
    "plt.ylabel('prof_t_s');"
   ]
  },
  {
   "cell_type": "markdown",
   "metadata": {},
   "source": [
    "This looks again quite parabolic, and similar to what we had just before without background uncertainty. Just to check, we can compare the two cases"
   ]
  },
  {
   "cell_type": "code",
   "execution_count": 22,
   "metadata": {},
   "outputs": [
    {
     "data": {
      "image/png": "[encoded data removed]",
      "text/plain": [
       "<Figure size 432x288 with 1 Axes>"
      ]
     },
     "metadata": {
      "needs_background": "light"
     },
     "output_type": "display_data"
    }
   ],
   "source": [
    "plt.plot(s_vals, [ prof_t_s(s_val) for s_val in s_vals ], label='uncertain b')\n",
    "plt.plot(s_vals, [ t_s(s_val, b4) for s_val in s_vals ], linestyle='--', label='fixed b')\n",
    "plt.xlabel('s')\n",
    "plt.ylabel('prof_t_s')\n",
    "plt.axhline(0)\n",
    "plt.axhline(1, linestyle=':')\n",
    "plt.legend();"
   ]
  },
  {
   "cell_type": "markdown",
   "metadata": {},
   "source": [
    "So everything works as expected : we get the same result as before, but the size of the confidence interval went up since now the background adds a new source of uncertainty. As before, we could compute the crossings with $t=1$ to get the precise values of the uncertainties in each case.\n",
    "\n",
    "To see a bit better what is happening, we can check the values of the best-fit $b$ for different $s$ values:"
   ]
  },
  {
   "cell_type": "code",
   "execution_count": 23,
   "metadata": {},
   "outputs": [
    {
     "name": "stdout",
     "output_type": "stream",
     "text": [
      "b4 =  51.61290322580645\n",
      "best_fit_b @ s=0.7 = 82.36067868126054\n",
      "best_fit_b @ s=-10 = 82.36067868126054\n",
      "best_fit_b @ s=+10 = 82.36067868126054\n"
     ]
    }
   ],
   "source": [
    "print('b4 = ', b4)\n",
    "print('best_fit_b @ s=0.7 =', scipy.optimize.minimize_scalar(lambda b : lambda_sb(s_val=0.7,b_val=b), bracket=(30,50)).x)\n",
    "print('best_fit_b @ s=-10 =', scipy.optimize.minimize_scalar(lambda b : lambda_sb(s_val=-10,b_val=b), bracket=(30,50)).x)\n",
    "print('best_fit_b @ s=+10 =', scipy.optimize.minimize_scalar(lambda b : lambda_sb(s_val=+10,b_val=b), bracket=(30,50)).x)"
   ]
  },
  {
   "cell_type": "markdown",
   "metadata": {},
   "source": [
    "At the best-fit point $s=0.7$, the best-fit background is the nominal one. However if we take a lower $s$ value $s=-10$, we get a higher best-fit $b$. And if we push $s$ up, $b$ goes down. What happens is that $b$ is adjusting to $s$, and partially compensating for the the fact that these values of $s$ don't quite agree with the data. This extra adjustment makes it more difficult to exclude values of $s$ away from $\\hat{s}$, so that the allowed range of $s$ gets larger -- and therefore the uncertainties get larger as well."
   ]
  },
  {
   "cell_type": "markdown",
   "metadata": {},
   "source": [
    "## 4. Bayesian methods: the simple case\n",
    "\n",
    "The methods we have seen so far are *frequentist*. This in effect means that there are 2 difference classes of parameters\n",
    "* Observables, which are randomly given by the experiment.\n",
    "* Parameters, which always have a unique, fixed value -- which is known, or more often unknown.\n",
    "\n",
    "There is another class of methods, *Bayesian* methods, which have a different take on measurement. In this approach, everything is random:\n",
    "* Observables are random as before\n",
    "* Parameters are also considered random, with the associated PDF used to quantify the uncertainty on their values.\n",
    "\n",
    "So for instance, for a Gaussian measurement:\n",
    "* The frequentist approach is to say $s = 2 +/- 3$, meaning that the interval $[-1, 5]$ has a 68% chance of containing the true value of $s$\n",
    "* The Bayesian approach is to say that $s \\sim G(2, 3)$, where the Gaussian encodes the same information.\n",
    "\n",
    "One thing to note is that in the frequentist setting, \"$[-1, 5]$ has a 68% chance of containing the true value of $s$\" is a statement on the interval itself, which is defined for a given experiment: another experiment would find another interval, and 68% of these intervals are guaranteed to contain the true value. For the Bayesian approach, the value of $s$ is itself random, and the experiment is just a way to gather more information on its distribution.\n",
    "\n",
    "The fundamental tool of Bayesian inference is Bayes' theorem. It can be written as\n",
    "$$\n",
    "P(s) \\propto L(s; n) \\pi(s)\n",
    "$$\n",
    "where \n",
    "* $\\pi(s)$ is the *prior* PDF -- a PDF giving the knowledge of $s$ that we had before the experiment\n",
    "* $L(s;n)$ is the usual likelihood\n",
    "* $P(s)$ is the *posterior* PDF on $s$, i.e. the distribution that encodes our knowledge of $s$ including the experimental information.\n",
    "\n",
    "A limit on $s$ can then be set by integrating the posterior $P(s)$ and finding $s_{up}$ so that $\\int_{-\\infty}^{s_{up}} P(s) ds = 95\\%$.\n",
    "\n",
    "Consider the example we had before:"
   ]
  },
  {
   "cell_type": "code",
   "execution_count": 24,
   "metadata": {},
   "outputs": [
    {
     "data": {
      "image/png": "[encoded data removed]",
      "text/plain": [
       "<Figure size 432x288 with 1 Axes>"
      ]
     },
     "metadata": {
      "needs_background": "light"
     },
     "output_type": "display_data"
    }
   ],
   "source": [
    "plt.bar(x[4], sb4, color='orange', label='s=30')\n",
    "plt.bar(x[4], b4, color='b', yerr=np.sqrt(b_only[4]), label='b only')\n",
    "plt.scatter(x[4], n4, zorder=10, color='k')\n",
    "plt.xlabel('bin number')\n",
    "plt.ylabel('Total expected yield')\n",
    "plt.legend();"
   ]
  },
  {
   "cell_type": "markdown",
   "metadata": {},
   "source": [
    "and assume we have a flat prior on $s$, $\\pi(s) = k$. Flat priors are often used in Bayesian applications, since they provide a relatively unbiased starting point.\n",
    "(Note that technically the flat distribution is not well defined if the range of $s$ is infinite, but this won't cause problems here).\n",
    "\n",
    "Now we can derive the upper limit. First define P(s):"
   ]
  },
  {
   "cell_type": "code",
   "execution_count": 25,
   "metadata": {},
   "outputs": [],
   "source": [
    "def p_s(s_val) :\n",
    "    return scipy.stats.poisson.pmf(n4, s_val + b4)"
   ]
  },
  {
   "cell_type": "markdown",
   "metadata": {},
   "source": [
    "$\\mathbf{\\color{red}{\\rightarrow\\text{Integrate p_s(s), starting from -25}}}$\n",
    "\n",
    "Use the `scipy.integrate.quad` function to perform the integral"
   ]
  },
  {
   "cell_type": "code",
   "execution_count": 26,
   "metadata": {},
   "outputs": [],
   "source": [
    "import scipy.integrate\n",
    "\n",
    "def integral_s(s_val) :\n",
    "    pass # real code here"
   ]
  },
  {
   "cell_type": "markdown",
   "metadata": {},
   "source": [
    "$\\mathbf{\\color{red}{\\rightarrow\\text{Now Plot p_s(s) and its integral over } [-20, 30]}}$\n"
   ]
  },
  {
   "cell_type": "code",
   "execution_count": 27,
   "metadata": {},
   "outputs": [
    {
     "data": {
      "image/png": "[encoded data removed]",
      "text/plain": [
       "<Figure size 432x288 with 2 Axes>"
      ]
     },
     "metadata": {
      "needs_background": "light"
     },
     "output_type": "display_data"
    }
   ],
   "source": [
    "s_vals = np.linspace(-20,30,50)\n",
    "plt.subplot(121)\n",
    "pass # code to plot p_s\n",
    "plt.subplot(122)\n",
    "pass # code to plot integral_s\n"
   ]
  },
  {
   "cell_type": "markdown",
   "metadata": {},
   "source": [
    "$\\mathbf{\\color{red}{\\rightarrow\\text{Finally, compute the limit as the value of s where the integral reaches 95%}}}$\n",
    "\n",
    "Use the `scipy.optimize.root_scalar` function to find the crossing with 0.95"
   ]
  },
  {
   "cell_type": "code",
   "execution_count": 28,
   "metadata": {},
   "outputs": [
    {
     "name": "stdout",
     "output_type": "stream",
     "text": [
      "Bayesian limit = -999\n"
     ]
    }
   ],
   "source": [
    "s_limit = -999 # real code here\n",
    "print('Bayesian limit =', s_limit);"
   ]
  },
  {
   "cell_type": "markdown",
   "metadata": {},
   "source": [
    "## 5. Bayesian methods: now with nuisance parameters\n",
    "\n",
    "Models usually also include nuisance parameters. For instance we considered a one-bin model where the background was only defined up to an uncertainty, so that the full likelihood is\n",
    "$$\n",
    "L(s, b) = P(n_4; s_4 + b_4) G(b^{\\text{aux}}, b_4, \\sigma_b)\n",
    "$$\n",
    "\n",
    "The way to treat this in a Bayesian way is to integrate over the nuisance parameters: formally\n",
    "$$\n",
    "P(s) \\propto \\int L(s, b; n) \\pi(s) G(b) db\n",
    "$$\n",
    "So that the constraint becomes the prior PDF of $b$. Using an uncertainty of $5$ on the background, and a central value equal to $b_4$, we have"
   ]
  },
  {
   "cell_type": "code",
   "execution_count": 29,
   "metadata": {},
   "outputs": [],
   "source": [
    "def p_sb(s_val, b_val) :\n",
    "    return scipy.stats.poisson.pmf(n4, s_val + b_val)*scipy.stats.norm.pdf(b_val, loc=b4, scale=5)"
   ]
  },
  {
   "cell_type": "markdown",
   "metadata": {},
   "source": [
    "$\\mathbf{\\color{red}{\\rightarrow\\text{First integrate over b to marginalize over this nuisance parameter. Use the range } [30, 70]}}$\n",
    "\n",
    "Use `scipy.integrate.quad` as before"
   ]
  },
  {
   "cell_type": "code",
   "execution_count": 30,
   "metadata": {},
   "outputs": [],
   "source": [
    "def integral_intb(s_val) :\n",
    "    return -999 # replace with real code"
   ]
  },
  {
   "cell_type": "markdown",
   "metadata": {},
   "source": [
    "$\\mathbf{\\color{red}{\\rightarrow\\text{Now integrate on s as well, from -25 to s_val as before}}}$"
   ]
  },
  {
   "cell_type": "code",
   "execution_count": 31,
   "metadata": {},
   "outputs": [],
   "source": [
    "def integral_sb(s_val) :\n",
    "    return -999 # replace with real code"
   ]
  },
  {
   "cell_type": "markdown",
   "metadata": {},
   "source": [
    "Plot the result:"
   ]
  },
  {
   "cell_type": "code",
   "execution_count": 32,
   "metadata": {},
   "outputs": [
    {
     "data": {
      "image/png": "[encoded data removed]",
      "text/plain": [
       "<Figure size 432x288 with 2 Axes>"
      ]
     },
     "metadata": {
      "needs_background": "light"
     },
     "output_type": "display_data"
    }
   ],
   "source": [
    "s_vals = np.linspace(-30,40,51)\n",
    "b_vals = np.linspace(30,70,31)\n",
    "s_mesh,b_mesh = np.meshgrid(s_vals, b_vals)\n",
    "plt.subplot(121)\n",
    "plt.contour(s_mesh, b_mesh, p_sb(s_mesh, b_mesh) )\n",
    "plt.xlabel('s')\n",
    "plt.ylabel('b')\n",
    "plt.subplot(122)\n",
    "plt.plot(s_vals, [ integral_intb(s_val) for s_val in s_vals ], label='marginalized b')\n",
    "plt.plot(s_vals, [ p_s(s_val) for s_val in s_vals ], label='fixed b');\n",
    "plt.legend();"
   ]
  },
  {
   "cell_type": "markdown",
   "metadata": {},
   "source": [
    "Plot the integral:"
   ]
  },
  {
   "cell_type": "code",
   "execution_count": 33,
   "metadata": {},
   "outputs": [
    {
     "data": {
      "image/png": "[encoded data removed]",
      "text/plain": [
       "<Figure size 432x288 with 1 Axes>"
      ]
     },
     "metadata": {
      "needs_background": "light"
     },
     "output_type": "display_data"
    }
   ],
   "source": [
    "plt.plot(s_vals, [ integral_sb(s_val) for s_val in s_vals ]);"
   ]
  },
  {
   "cell_type": "markdown",
   "metadata": {},
   "source": [
    "$\\mathbf{\\color{red}{\\rightarrow\\text{Compute the limit as the point where the integral reaches 95%}}}$\n",
    "\n",
    "Use the `scipy.optimize.root_scalar` function to find the crossing with 0.95"
   ]
  },
  {
   "cell_type": "code",
   "execution_count": 34,
   "metadata": {},
   "outputs": [
    {
     "name": "stdout",
     "output_type": "stream",
     "text": [
      "Bayesian limit = -999\n"
     ]
    }
   ],
   "source": [
    "s_limit = -999 # real code here\n",
    "print('Bayesian limit =', s_limit)"
   ]
  },
  {
   "cell_type": "markdown",
   "metadata": {},
   "source": [
    "As expected, the limit is slightly larger than in the no-systematics case."
   ]
  },
  {
   "cell_type": "markdown",
   "metadata": {},
   "source": [
    "## 6. An Unbinned example\n",
    "\n",
    "We now look at an example of an unbinned model. In this case, both signal and backgroud are defined by smooth shapes. We consider a Gaussian signal, and an exponential background, which are functions of a variable $m$ defined over $0 < m < 200$ GeV :"
   ]
  },
  {
   "cell_type": "code",
   "execution_count": 35,
   "metadata": {},
   "outputs": [],
   "source": [
    "def psig(m) :\n",
    "    return scipy.stats.norm.pdf(m, loc=80, scale=5)\n",
    "\n",
    "slope = 0.02\n",
    "\n",
    "def pbkg(m) :\n",
    "    return scipy.stats.expon.pdf(m, scale=1/slope)"
   ]
  },
  {
   "cell_type": "markdown",
   "metadata": {},
   "source": [
    "We now generate a pseudo-dataset from the PDFs, and plot a histogram of the result"
   ]
  },
  {
   "cell_type": "code",
   "execution_count": 36,
   "metadata": {},
   "outputs": [
    {
     "data": {
      "image/png": "[encoded data removed]",
      "text/plain": [
       "<Figure size 432x288 with 1 Axes>"
      ]
     },
     "metadata": {
      "needs_background": "light"
     },
     "output_type": "display_data"
    }
   ],
   "source": [
    "np.random.seed(2) # make sure we always generate the same\n",
    "data = np.concatenate((scipy.stats.norm.rvs(size=100, loc=80, scale=5), scipy.stats.expon.rvs(size=1000, scale=1/slope))) # generate signal and background, and merge\n",
    "data = data[ (data < 200) ] # cut off the region m > 200 GeV which we don't want\n",
    "\n",
    "# Define the binning\n",
    "m_min = 0\n",
    "m_max = 200\n",
    "npts = 50\n",
    "bin_size = (m_max - m_min)/npts\n",
    "\n",
    "# Plot\n",
    "hist = plt.hist(data, bins= np.linspace(m_min, m_max, npts))"
   ]
  },
  {
   "cell_type": "markdown",
   "metadata": {},
   "source": [
    "There is clearly a signal peak, and we want to fit it and find its significance. For this, we're going to use the definition of $q_0$ in the presence of nuisance parameters (here $b$) :\n",
    "$$\n",
    "q_0(s) = -2 \\log \\frac{L(s=0, \\hat{\\hat{b}}(s=0))}{L(\\hat{s},\\hat{b})}\n",
    "$$\n",
    "So we need to perform 2 fits: one where we minimize with respect to $s$ and $b$, and one where we minimize with respect to $b$ with $s$ fixed to $0$.\n",
    "\n",
    "In order to do these fits, we need to define the total likelihood for the unbinned data, which is\n",
    "$$\n",
    "L(s,b) = e^{-(s+b)} \\frac{(s+b)^n}{n!} \\prod_{i=1}^n f_{total}(m_i; s,b)\n",
    "$$\n",
    "with\n",
    "$$\n",
    "f_{total}(m_i; s,b) = \\frac{s}{s+b}f_{sig}(m_i) + \\frac{s}{s+b}f_{bkg}(m_i)\n",
    "$$\n",
    "In fact as usual we will use $\\lambda(s,b) = -2\\log L(s,b)$ since this is easier to handle.\n",
    "\n",
    "$\\mathbf{\\color{red}{\\rightarrow\\text{Now define the total PDF and the lambda(s,b) functions, in terms of `psig` and `pbkg` introduced above}}}$\n",
    "\n"
   ]
  },
  {
   "cell_type": "code",
   "execution_count": 37,
   "metadata": {},
   "outputs": [],
   "source": [
    "def total_pdf(m, s, b) :\n",
    "    return -999 # replace with the proper implementation\n",
    "\n",
    "def lambda_unbinned(data, s, b) :\n",
    "    return -999 # replace with the proper implementation"
   ]
  },
  {
   "cell_type": "markdown",
   "metadata": {},
   "source": [
    "Now that we have $\\lambda(s,b)$, we can compute best-fit values by minimizing it:"
   ]
  },
  {
   "cell_type": "code",
   "execution_count": 38,
   "metadata": {},
   "outputs": [
    {
     "name": "stdout",
     "output_type": "stream",
     "text": [
      "best_s =  50.0\n",
      "best_b =  1078.0\n"
     ]
    }
   ],
   "source": [
    "best_fit_s, best_fit_b = scipy.optimize.minimize(lambda x : lambda_unbinned(data, x[0], x[1]), x0=[50, len(data)], method='L-BFGS-B').x\n",
    "print(\"best_s = \", best_fit_s)\n",
    "print(\"best_b = \", best_fit_b)"
   ]
  },
  {
   "cell_type": "markdown",
   "metadata": {},
   "source": [
    "This is the global best-fit, but we also need to perform a conditional best-fit for $b$ under the condition $s=0$.\n",
    "\n",
    "$\\mathbf{\\color{red}{\\rightarrow\\text{Now modify the code above to find the best-fit `b` under the condition `s = 0`}}}$\n"
   ]
  },
  {
   "cell_type": "code",
   "execution_count": 39,
   "metadata": {},
   "outputs": [
    {
     "name": "stdout",
     "output_type": "stream",
     "text": [
      "-999\n"
     ]
    }
   ],
   "source": [
    "cond_fit_b = -999 # replace with the correct minimization call, similar to the one in the previous block (but now with s=0!)\n",
    "print(cond_fit_b)"
   ]
  },
  {
   "cell_type": "markdown",
   "metadata": {},
   "source": [
    "You should find that this value of $b$ is higher than the unconditional best-fit value that we found above: this is because we fix $s = 0$, so the signal events get partly absorbed into the background yield.\n",
    "\n",
    "Now that we have performed both fits, we can compute $q_0$ using the difference of the likelihoods\n",
    "\n",
    "$\\mathbf{\\color{red}{\\rightarrow\\text{Compute q_0, and deduce the significance of the signal using asymptotic formulas}}}$\n"
   ]
  },
  {
   "cell_type": "code",
   "execution_count": 40,
   "metadata": {},
   "outputs": [
    {
     "name": "stdout",
     "output_type": "stream",
     "text": [
      "q0 =  999\n",
      "signif =  31.606961258558215\n"
     ]
    }
   ],
   "source": [
    "q0 = 999 # replace with correct code\n",
    "print(\"q0 = \", q0)\n",
    "print(\"signif = \", np.sqrt(q0))"
   ]
  },
  {
   "cell_type": "markdown",
   "metadata": {},
   "source": [
    "You should find a rather hefty significance of above $7\\sigma$, which is consistent with the clear peak we see in the histogram.\n",
    "To illustrate this, let's make a plot of the best-fit result. We need to normalize the total PDF to the total event yield, and also account for the bin size:"
   ]
  },
  {
   "cell_type": "code",
   "execution_count": 41,
   "metadata": {},
   "outputs": [
    {
     "data": {
      "text/plain": [
       "[<matplotlib.lines.Line2D at 0x7f733c0afc10>]"
      ]
     },
     "execution_count": 41,
     "metadata": {},
     "output_type": "execute_result"
    },
    {
     "data": {
      "image/png": "[encoded data removed]",
      "text/plain": [
       "<Figure size 432x288 with 1 Axes>"
      ]
     },
     "metadata": {
      "needs_background": "light"
     },
     "output_type": "display_data"
    }
   ],
   "source": [
    "mvals = np.linspace(m_min, m_max, npts*5)\n",
    "hist = plt.hist(data, bins= np.linspace(m_min, m_max, npts))\n",
    "plt.plot(mvals, [ total_pdf(mval, best_fit_s, best_fit_b)*(best_fit_s + best_fit_b)*bin_size for mval in mvals ])"
   ]
  },
  {
   "cell_type": "code",
   "execution_count": null,
   "metadata": {},
   "outputs": [],
   "source": []
  }
 ],
 "metadata": {
  "kernelspec": {
   "display_name": "Python 3 (ipykernel)",
   "language": "python",
   "name": "python3"
  },
  "language_info": {
   "codemirror_mode": {
    "name": "ipython",
    "version": 3
   },
   "file_extension": ".py",
   "mimetype": "text/x-python",
   "name": "python",
   "nbconvert_exporter": "python",
   "pygments_lexer": "ipython3",
   "version": "3.8.5"
  }
 },
 "nbformat": 4,
 "nbformat_minor": 4
}
