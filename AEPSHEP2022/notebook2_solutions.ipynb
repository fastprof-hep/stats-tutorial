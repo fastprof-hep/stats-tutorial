{
 "cells": [
  {
   "cell_type": "markdown",
   "metadata": {},
   "source": [
    "# **Statistics Lecture 2 : solutions notebook**"
   ]
  },
  {
   "cell_type": "markdown",
   "metadata": {},
   "source": [
    "This is the companion notebook to lecture 3 in the _Practical Statistics_ course, covering the following topics:\n",
    "\n",
    "0. Maximum likelihood for a single Poisson\n",
    "1. Maximum likelihood for binned data\n",
    "2. Hypothesis testing basics\n",
    "3. Testing for discovery\n",
    "\n",
    "First perform the usual imports:"
   ]
  },
  {
   "cell_type": "code",
   "execution_count": 1,
   "metadata": {},
   "outputs": [],
   "source": [
    "import numpy as np\n",
    "import scipy.stats\n",
    "from matplotlib import pyplot as plt\n",
    "%matplotlib inline"
   ]
  },
  {
   "cell_type": "markdown",
   "metadata": {},
   "source": [
    "## 0. Maximum likelihood for a single Poisson"
   ]
  },
  {
   "cell_type": "markdown",
   "metadata": {},
   "source": [
    "To illustrate Maximum Likelihood in practice, we consider an example with binned data. We take a simple model with signal and background:"
   ]
  },
  {
   "cell_type": "code",
   "execution_count": 2,
   "metadata": {},
   "outputs": [
    {
     "name": "stdout",
     "output_type": "stream",
     "text": [
      "2\n"
     ]
    }
   ],
   "source": [
    "s = 2\n",
    "b = 1\n",
    "\n",
    "# Now generate some random data for the s+b hypothesis\n",
    "np.random.seed(1) # Set the random seed to make sure we generate the same data every time\n",
    "n = np.random.poisson(s + b)\n",
    "\n",
    "print(n)"
   ]
  },
  {
   "cell_type": "markdown",
   "metadata": {},
   "source": [
    "The situation above shows a rather standard case where we count events with coming from 2 sources: signal and background. Since we are in a counting situation, the observed event count $n$ is described by a Poisson distribution.\n",
    "\n",
    "We now want to estimate the best-fit signal in this (pseudo) experiment. We know the answer already:"
   ]
  },
  {
   "cell_type": "code",
   "execution_count": 3,
   "metadata": {},
   "outputs": [
    {
     "name": "stdout",
     "output_type": "stream",
     "text": [
      "naive best-fit =  1\n"
     ]
    }
   ],
   "source": [
    "best_s = n - b\n",
    "print(\"naive best-fit = \", best_s)"
   ]
  },
  {
   "cell_type": "markdown",
   "metadata": {},
   "source": [
    "So the best-fit value is below the $s = 2$ that was used to generate, since we had a slight negative fluctuation when generating the data.\n",
    "\n",
    "However the goal here is to exercise the maximum-likelihood (ML) estimation techniques that will be useful in more complex examples later. So we are going to compute the ML estimate $\\hat{s}$ for $s$, which (hopefully!) will match what we have just above.\n",
    "\n",
    "We will define the likelihood $L(s)$, and then move to the quantity $\\lambda = -2 \\log L(s)$ that will be more useful later.\n",
    "We can use either, since maximizing $L(s)$ is equivalent to minimizing $\\lambda(s)$, and the ML estimate $\\hat{s}$ at the maximum/minimum is the same either way,\n",
    "\n",
    "Let's not compute the ML estimate (best fit) $\\hat{s}$ using $\\lambda(s)$ :"
   ]
  },
  {
   "cell_type": "code",
   "execution_count": 4,
   "metadata": {},
   "outputs": [],
   "source": [
    "# Define a scan over s values:\n",
    "s_values = np.arange(-0.5, 3.5, 0.1)"
   ]
  },
  {
   "cell_type": "markdown",
   "metadata": {},
   "source": [
    "$\\mathbf{\\color{red}{\\rightarrow\\text{Compute }\\lambda\\text{ for each value of }s \\text{, plot the result and find the best-fit value among the values tested.}}}$\n",
    "<span style=\"color:red\">Note that the likelihood $L(s)$ is just a Poisson PDF, and recall that in scipy you evaluate a Poisson PDF using ```scipy.stats.poisson.pmf(nobs, mean)``` where ```mean``` is the Poisson parameters (i.e. the mean and variance of the distribution) and ```nobs``` is the observed number of events.</span>"
   ]
  },
  {
   "cell_type": "markdown",
   "metadata": {},
   "source": [
    "$\\mathbf{\\color{green}{Answer}}$ : "
   ]
  },
  {
   "cell_type": "code",
   "execution_count": 6,
   "metadata": {},
   "outputs": [
    {
     "name": "stdout",
     "output_type": "stream",
     "text": [
      "hat{s}, ML = (0.9999999999999996, 2.613705638880109)\n"
     ]
    },
    {
     "data": {
      "image/png": "[encoded data removed]",
      "text/plain": [
       "<Figure size 432x288 with 1 Axes>"
      ]
     },
     "metadata": {
      "needs_background": "light"
     },
     "output_type": "display_data"
    }
   ],
   "source": [
    "def L(s, data) :\n",
    "    return scipy.stats.poisson.pmf(n, s+b)\n",
    "\n",
    "def lambda_s(s, data) :\n",
    "    return -2*np.log(scipy.stats.poisson.pmf(n, s+b) )\n",
    "\n",
    "lambda_values = np.array([ lambda_s(s_value, n) for s_value in s_values ]) # compute the likelihood (the Poisson PDF for each s)\n",
    "\n",
    "# Plot the result\n",
    "plt.plot(s_values, lambda_values)\n",
    "plt.xlabel('s')\n",
    "plt.ylabel('L')\n",
    "\n",
    "# Find the maximum likelihood value in the list : merge the 2 lists and find the max based on the L value\n",
    "from operator import itemgetter\n",
    "print('hat{s}, ML =', min( [ (s,l) for s,l in zip(s_values, lambda_values) ], key=itemgetter(1)))"
   ]
  },
  {
   "cell_type": "markdown",
   "metadata": {},
   "source": [
    "If all goes well, you should find a best-fit $\\hat{s}$ of about 1.\n",
    "\n",
    "You also get the value of $\\lambda(\\hat{s})$, but this is not very interesting. Since $L(s)$ was defined only up to a multiplicative factor, $\\lambda(s)$ is defined up to an additive constant, so the value $\\lambda(\\hat{s})$ at the minimum isn't meaningful. On the other hand, the difference between values of $\\lambda(s)$ at different $s$ is meaningful, and will be used later in hypothesis testing.\n",
    "\n",
    "Of course the $\\hat{s}$ value we got was a bit imprecise due to the step size of 0.1 in the scan, but we can do better:"
   ]
  },
  {
   "cell_type": "markdown",
   "metadata": {},
   "source": [
    "$\\mathbf{\\color{red}{\\rightarrow\\text{Use the scipy minimization routines to find the precise value of } \\hat{s}}}$."
   ]
  },
  {
   "cell_type": "markdown",
   "metadata": {},
   "source": [
    "$\\mathbf{\\color{green}{Answer}}$ : "
   ]
  },
  {
   "cell_type": "code",
   "execution_count": 8,
   "metadata": {},
   "outputs": [
    {
     "name": "stdout",
     "output_type": "stream",
     "text": [
      "exact hat{s}: 1.00000001481\n"
     ]
    }
   ],
   "source": [
    "from scipy.optimize import minimize_scalar\n",
    "# Compute the value at minimum (.x selects the position of the minimum, .fun would return the function value)\n",
    "s_hat = minimize_scalar(lambda s : lambda_s(s, n), bounds=(0, 100)).x\n",
    "print('exact hat{s}:', s_hat)"
   ]
  },
  {
   "cell_type": "markdown",
   "metadata": {},
   "source": [
    "You should find a best-fit value of exactly $\\hat{s} = 1$, which is the correct value as we know since the beginning."
   ]
  },
  {
   "cell_type": "markdown",
   "metadata": {},
   "source": [
    "## 1. Maximum likelihood for binned data"
   ]
  },
  {
   "cell_type": "markdown",
   "metadata": {},
   "source": [
    "We now a consider a more realistic example with binned data. Since there are multiple bins (here 10), there's no way to guess the answer and we'll really need the ML to get the best-fit signal. We again take a simple model with both a signal and a background component:"
   ]
  },
  {
   "cell_type": "code",
   "execution_count": 9,
   "metadata": {},
   "outputs": [
    {
     "data": {
      "image/png": "[encoded data removed]",
      "text/plain": [
       "<Figure size 432x288 with 1 Axes>"
      ]
     },
     "metadata": {
      "needs_background": "light"
     },
     "output_type": "display_data"
    }
   ],
   "source": [
    "# Define the binning\n",
    "nbins = 10\n",
    "x = np.linspace(0, nbins - 1, nbins)\n",
    "\n",
    "# The background follows a linear shape\n",
    "b_yields = np.array([ (1 - i/2/nbins) for i in range(0, nbins) ])\n",
    "b_fracs = b_yields/np.sum(b_yields)\n",
    "\n",
    "# The signal shape is a peak\n",
    "s_fracs = np.zeros(nbins)\n",
    "s_fracs[4:7] = [ 0.1, 0.8, 0.1 ]\n",
    "\n",
    "# Define the signal and background\n",
    "s = 3\n",
    "b = 50\n",
    "s_and_b = s*s_fracs + b*b_fracs\n",
    "b_only = b*b_fracs\n",
    "\n",
    "# Now generate some data for the s+b model\n",
    "np.random.seed(14) # Set the random seed to make sure we generate the same data every time\n",
    "data = [ np.random.poisson(s*s_frac + b*b_frac) for s_frac, b_frac in zip(s_fracs, b_fracs) ]\n",
    "\n",
    "# Make a plot of the result\n",
    "plt.bar(x, s_and_b, color='orange', yerr=np.sqrt(s_and_b), label='s+b')\n",
    "plt.bar(x, b_only, color='b', label='b only')\n",
    "plt.scatter(x, data, zorder=10, color='k', label='data')\n",
    "plt.xlabel('bin number')\n",
    "plt.ylabel('Total expected yield')\n",
    "plt.legend();"
   ]
  },
  {
   "cell_type": "markdown",
   "metadata": {},
   "source": [
    "Compared to the previous example, both signal and background now have a shape in addition to an overall normalization. The normalized shape (to unit integral) are called the *templates* for signal and background. These are given by bin fractions $f_{S,i}$ and $f_{B,i}$ which are normalized to 1. They are then scaled by the yields $s$ and $b$.\n",
    "\n",
    "The plot above shows a typical case of a binned analysis, with quite different templates for signal and background that allow to separate the two. This means that we can consider both $s$ and $b$ (the overall normalizations) to be free in the fit, unlike in the previous example where we had to fix $b$.\n",
    "\n",
    "The ML estimate $\\hat{s}$ corresponds now to the \"best fit\" of the templates to the data. One can more or less try to guess it from the plot: the histograms are drawn for $s = 3$, so naively one expects something a bit larger, perhaps $\\hat{s} \\approx 5$ or so.\n",
    "\n",
    "We now check this by performing the ML estimation. We'll again use $\\lambda(s)$ instead of $L(s)$ directly. There is a good reason why this is a better choice here: the total PDF for all the bins together is a product of Poisson terms, one for each bin: \n",
    "$$\n",
    "L(s) = \\prod_{i=1}^{n_{\\text{bins}}} P(n_i, s f_{s,i} + b f_{b,i})\n",
    "$$\n",
    "Technically it's easier to deal with sums than products, and the log does this for us. As we'll see in a moment, this is also useful to deal with Gaussian PDFs, since in this case the log just extracts the squared term in the exponent. This is also the reason for the $-2$ term in the formula.\n",
    "\n",
    "The only consequence in practical terms is that instead of $L(s)$ we compute $\\lambda(s)$, and that we now want to minimize it instead of maximizing. But the ML estimate $\\hat{s}$ remains the same, since the value of $s$ that maximizes $L(s)$ also minimizes $\\lambda(s)$.\n",
    "\n",
    "Let's not compute the ML estimate (best fit) $\\hat{s}$ using $\\lambda(s)$ :"
   ]
  },
  {
   "cell_type": "code",
   "execution_count": 10,
   "metadata": {},
   "outputs": [],
   "source": [
    "# Define the s scan\n",
    "s_values = np.arange(-2, 15, 0.1)"
   ]
  },
  {
   "cell_type": "markdown",
   "metadata": {},
   "source": [
    "$\\mathbf{\\color{red}{\\rightarrow\\text{Compute }\\lambda\\text{ for each value of }s \\text{, plot the result and find the best-fit value among the values tested}}}$\n",
    "<span style=\"color:red\"> This is similar to the case above, except that now we need to compute a Poisson for each bin, using the signal and background fractions in each bins. Once we have the $\\lambda(s)$ values for each bin, we can just sum them up over all bins to get the total $\\lambda(s)$ value that we will minimize.</span>"
   ]
  },
  {
   "cell_type": "markdown",
   "metadata": {},
   "source": [
    "$\\mathbf{\\color{green}{Answer}}$ : "
   ]
  },
  {
   "cell_type": "code",
   "execution_count": 11,
   "metadata": {},
   "outputs": [
    {
     "name": "stdout",
     "output_type": "stream",
     "text": [
      "hat{s}, ML = (5.100000000000007, 38.81476439657058)\n"
     ]
    },
    {
     "data": {
      "image/png": "[encoded data removed]",
      "text/plain": [
       "<Figure size 432x288 with 1 Axes>"
      ]
     },
     "metadata": {
      "needs_background": "light"
     },
     "output_type": "display_data"
    }
   ],
   "source": [
    "def lambda_s(s, data) :\n",
    "    return sum( [ -2*np.log(scipy.stats.poisson.pmf(n, s*s_frac + b*b_frac)) for n, s_frac, b_frac in zip(data, s_fracs, b_fracs) ] )\n",
    "\n",
    "lambda_values = np.array([ lambda_s(s_value, data) for s_value in s_values ]) # compute the likelihood (the Poisson PDF for each s)\n",
    "\n",
    "# Plot the result\n",
    "plt.plot(s_values, lambda_values)\n",
    "plt.xlabel('s')\n",
    "plt.ylabel('L')\n",
    "\n",
    "# Find the maximum likelihood value in the list : merge the 2 lists and find the max based on the L value\n",
    "from operator import itemgetter\n",
    "print('hat{s}, ML =', min( [ (s,l) for s,l in zip(s_values, lambda_values) ], key=itemgetter(1)))"
   ]
  },
  {
   "cell_type": "markdown",
   "metadata": {},
   "source": [
    "If all goes well, you should find a best-fit $\\hat{s}$ of about 5. Of course this value is a bit imprecise due to the step size of 0.1 in the scan, but again we can use the scipy minimization routines to do better."
   ]
  },
  {
   "cell_type": "markdown",
   "metadata": {},
   "source": [
    "$\\mathbf{\\color{red}{\\rightarrow\\text{Use the scipy minimization routines to find the precise value of } \\hat{s}}}$"
   ]
  },
  {
   "cell_type": "markdown",
   "metadata": {},
   "source": [
    "$\\mathbf{\\color{green}{Answer}}$ : "
   ]
  },
  {
   "cell_type": "code",
   "execution_count": 12,
   "metadata": {},
   "outputs": [
    {
     "name": "stdout",
     "output_type": "stream",
     "text": [
      "exact hat{s}: 5.063270689498512\n"
     ]
    },
    {
     "data": {
      "image/png": "[encoded data removed]",
      "text/plain": [
       "<Figure size 432x288 with 1 Axes>"
      ]
     },
     "metadata": {
      "needs_background": "light"
     },
     "output_type": "display_data"
    }
   ],
   "source": [
    "from scipy.optimize import minimize_scalar\n",
    "# Compute the value at minimum (.x selects the position of the minimum, .fun would return the function value)\n",
    "s_hat = minimize_scalar(lambda s : lambda_s(s, data), bounds=(0, 100)).x\n",
    "print('exact hat{s}:', s_hat)\n",
    "\n",
    "# Plot the result\n",
    "best_fit_s_plus_b = s_hat*s_fracs + b*b_fracs\n",
    "plt.bar(x, best_fit_s_plus_b, color='orange', yerr=np.sqrt(best_fit_s_plus_b), label='Best-fit s+b')\n",
    "plt.bar(x, b_only, color='b', label='b only')\n",
    "plt.scatter(x, data, zorder=10, color='k', label='data')\n",
    "plt.xlabel('bin number')\n",
    "plt.ylabel('Total expected frac')\n",
    "plt.legend();"
   ]
  },
  {
   "cell_type": "markdown",
   "metadata": {},
   "source": [
    "You should find a best-fit value of about $\\hat{s} = 5.06$. \n",
    "\n",
    "Note than since $L(s)$ was defined only up to a multiplicative factor, $\\lambda(s)$ is defined up to an additive constant, so the value $\\lambda(\\hat{s})$ at the minimum isn't meaningful. On the other hand, the difference between values of $\\lambda(s)$ at different $s$ is meaningful, and will be used later in hypothesis testing."
   ]
  },
  {
   "cell_type": "markdown",
   "metadata": {},
   "source": [
    "## 2. Hypothesis testing basics"
   ]
  },
  {
   "cell_type": "markdown",
   "metadata": {},
   "source": [
    "So far we've focused on estimating parameters, but to get realistic results (including setting uncertainties on the best-fit values), we need an additional ingredient, *hypothesis testing*. The procedure for this is as follows:\n",
    "* **Define the hypotheses to test**. We need two of them: a baseline *null* hypothesis, and an *alternate* which is tested against it\n",
    "* **Define the *test* to perform** -- meaning the observables to use, and procedure to decide which hypothesis to accept.\n",
    "* **Compute the result of the test for the observed data**, in particular the *p-value* of the test, and decide whether to accept the null or the alternate hypothesis.\n",
    "\n",
    "To start with, we consider a simple Poisson counting process\n",
    "* Define two different signal hypotheses ($n=0$ and $n=5$)\n",
    "* Define the test in terms of the observed number of events: if it is less than some threshold, accept the null $n=0$, otherwise $n=5$.\n",
    "\n",
    "For the study below, we consider a single-bin counting experiment. In this case the disciminant is just the observed count $n$."
   ]
  },
  {
   "cell_type": "code",
   "execution_count": null,
   "metadata": {},
   "outputs": [],
   "source": [
    "# Define the  hypotheses\n",
    "b = 10 # background of 10 events\n",
    "s_null = 0 # the null hypothesis: no signal, only background\n",
    "s_alt  = 5 # the alternate hypothesis: \n",
    "\n",
    "# consider various values of the observed n (our discriminant)\n",
    "ns = np.arange(1, 30, 1)"
   ]
  },
  {
   "cell_type": "markdown",
   "metadata": {},
   "source": [
    "$\\mathbf{\\color{red}{\\rightarrow\\text{Compute and plot the PDFs for the two hypotheses. These are Poisson PDFs with parameters s_null + b and s_alt + b}}}$"
   ]
  },
  {
   "cell_type": "markdown",
   "metadata": {},
   "source": [
    "$\\mathbf{\\color{green}{Answer}}$ : "
   ]
  },
  {
   "cell_type": "code",
   "execution_count": null,
   "metadata": {},
   "outputs": [],
   "source": [
    "plt.plot(ns, scipy.stats.poisson.pmf( ns, s_null + b ), color='r', label='null')\n",
    "plt.plot(ns, scipy.stats.poisson.pmf( ns, s_alt  + b ), color='b', label='alt')\n",
    "plt.xlabel('observed n')\n",
    "plt.ylabel('PDF')\n",
    "plt.legend();"
   ]
  },
  {
   "cell_type": "markdown",
   "metadata": {},
   "source": [
    "As for any test, there are two ways to go wrong:\n",
    "* Rejecting the null although it is true (false positive): the fraction of such cases is the *Type-I error rate* or *p-value*.\n",
    "* Accepting the null although it is false (false negative) : : the fraction of such cases is the *Type-II error rate*, also (1 - Power)\n",
    "\n",
    "A more stringent test reduces the Type-I error rate, but at the expense of an increased Type-II rate and vice versa. This is illustrated by the *ROC curve* which shows each error rate as a function of the other. The threshold for the test should be chosen depending on the desired balance between these error rates."
   ]
  },
  {
   "cell_type": "code",
   "execution_count": null,
   "metadata": {},
   "outputs": [],
   "source": [
    "plt.figure()\n",
    "plt.subplot(211)\n",
    "plt.plot(ns, scipy.stats.poisson.pmf(ns, s_null + b), color='r', label='null')\n",
    "plt.plot(ns, scipy.stats.poisson.pmf(ns, s_alt  + b), color='b', label='alt')\n",
    "\n",
    "# First a loose test with a threshold at n=12 (i.e s=2)\n",
    "threshold1 = 12\n",
    "lo1 = np.arange( 1, threshold1 + 1, 1)\n",
    "hi1 = np.arange(threshold1, 30, 1)\n",
    "plt.fill_between(hi1, scipy.stats.poisson.pmf( hi1, s_null + b ), color='r', label='p-value')\n",
    "plt.fill_between(lo1, scipy.stats.poisson.pmf( lo1, s_alt  + b ), color='b', label='Type-II')\n",
    "plt.xlabel('observed n')\n",
    "plt.ylabel('PDF')\n",
    "plt.legend();"
   ]
  },
  {
   "cell_type": "markdown",
   "metadata": {},
   "source": [
    "$\\mathbf{\\color{red}{\\rightarrow\\text{Compute the Type-I error probability (p-value) and the Type-II error probability for this test.}}}$\n",
    "\n",
    "Recall that\n",
    "- the p-value is the integral of the null hypothesis PDF above the threshold, so given by `scipy.stats.poisson.sf(threshold, s_null+b)`\n",
    "- the Type-II error is the integral of the alt. hypothesis PDF below the threshold,  so given by `scipy.stats.poisson.cdf(threshold, s_alt+b)`"
   ]
  },
  {
   "cell_type": "markdown",
   "metadata": {},
   "source": [
    "$\\mathbf{\\color{green}{Answer}}$ : "
   ]
  },
  {
   "cell_type": "code",
   "execution_count": null,
   "metadata": {},
   "outputs": [],
   "source": [
    "print('Type-I error (p-value) = %g' % scipy.stats.poisson.sf(threshold1, s_null + b) )\n",
    "print('Type-II error = %g' % scipy.stats.poisson.cdf(threshold1, s_alt + b) )"
   ]
  },
  {
   "cell_type": "code",
   "execution_count": null,
   "metadata": {},
   "outputs": [],
   "source": [
    "# Now for a more stringent test with a threshold at n=16 (i.e s=6)\n",
    "threshold2 = 16"
   ]
  },
  {
   "cell_type": "markdown",
   "metadata": {},
   "source": [
    "$\\mathbf{\\color{red}{\\rightarrow\\text{Compute the Type-I error probability (p-value) and the Type-II error probability for this new test.}}}$"
   ]
  },
  {
   "cell_type": "markdown",
   "metadata": {},
   "source": [
    "$\\mathbf{\\color{green}{Answer}}$ : "
   ]
  },
  {
   "cell_type": "code",
   "execution_count": null,
   "metadata": {},
   "outputs": [],
   "source": [
    "plt.subplot(212)\n",
    "plt.plot(ns, scipy.stats.poisson.pmf(ns, s_null + b), color='r', label='null')\n",
    "plt.plot(ns, scipy.stats.poisson.pmf(ns, s_alt  + b), color='b', label='alt')\n",
    "lo1 = np.arange( 1, threshold2 + 1, 1)\n",
    "hi1 = np.arange(threshold2, 30, 1)\n",
    "plt.fill_between(hi1, scipy.stats.poisson.pmf( hi1, s_null + b ), color='r', label='p-value')\n",
    "plt.fill_between(lo1, scipy.stats.poisson.pmf( lo1, s_alt  + b ), color='b', label='Type-II')\n",
    "plt.xlabel('observed n')\n",
    "plt.ylabel('PDF')\n",
    "plt.legend();\n",
    "print('Type-I error (p-value) = %g' % scipy.stats.poisson.sf(threshold2, s_null + b) )\n",
    "print('Type-II error = %g' % scipy.stats.poisson.cdf(threshold2, s_alt + b) )"
   ]
  },
  {
   "cell_type": "markdown",
   "metadata": {},
   "source": [
    "$\\mathbf{\\color{red}{\\rightarrow\\text{Now compute the Type-I error probability (p-value) and the Type-II error probability for the range of thresholds below, and draw the ROC curve.}}}$"
   ]
  },
  {
   "cell_type": "code",
   "execution_count": null,
   "metadata": {},
   "outputs": [],
   "source": [
    "thresholds = np.arange(1, 30, 1)\n",
    "plt.plot(scipy.stats.poisson.sf(thresholds, s_alt + b), scipy.stats.poisson.cdf(thresholds, s_null + b), color='orange')\n",
    "plt.xlabel('1 - TypeII = Power')\n",
    "plt.ylabel('1 - pvalue')"
   ]
  },
  {
   "cell_type": "markdown",
   "metadata": {},
   "source": [
    "The threshold for discovery in physics is often set at $5\\sigma$, which corresponds to a p-value of about $3 \\cdot 10^{-7}$."
   ]
  },
  {
   "cell_type": "markdown",
   "metadata": {},
   "source": [
    "$\\mathbf{\\color{red}{\\rightarrow\\text{What threshold would one use to get so small a Type-I error rate ?}}}$"
   ]
  },
  {
   "cell_type": "code",
   "execution_count": null,
   "metadata": {},
   "outputs": [],
   "source": [
    "pfive = scipy.stats.norm.sf(5)\n",
    "threshold_five = scipy.stats.poisson.isf(pfive, s_null + b)\n",
    "print('pvalue=', pfive, 'threshold=', threshold_five, 'power=', scipy.stats.poisson.sf(threshold_five, s_alt + b))"
   ]
  },
  {
   "cell_type": "markdown",
   "metadata": {},
   "source": [
    "You should find $n_{\\text{obs}} \\ge 29$. If we do osberve such a large n, then we can indeed reject the null at with a p-value corresponding to a $5\\sigma$ threshold. This corresponds to testing for discovery: we reject the no-signal hypothesis in favor of an hypothesis with non-zero signal.\n",
    "\n",
    "However the power of the test is also very low (you should have found about $4\\, 10^{-4}$ above), which means that even if the $s=5$ signal is there, we are very unlikely to observe an event count of $n_{\\text{obs}} \\ge 29$. The underlying problem here is the fact that the difference between the alternate hypothesis $s=5$ and the null $s=0$ is quite small on the scale of the measurement uncertainties, so the two hypotheses are difficult to separate.\n",
    "\n",
    "If the alternate hypothesis was larger, say $20$ signal events, then things would be easier. The threshold for discovery would still be 29 events (this only depends on the null, not the alt), but now the power would be larger. Let's compute it:"
   ]
  },
  {
   "cell_type": "code",
   "execution_count": null,
   "metadata": {},
   "outputs": [],
   "source": [
    "s_alt2 = 20"
   ]
  },
  {
   "cell_type": "markdown",
   "metadata": {},
   "source": [
    "$\\mathbf{\\color{red}{\\rightarrow\\text{Compute the power for this hypothesis}}}$"
   ]
  },
  {
   "cell_type": "code",
   "execution_count": null,
   "metadata": {},
   "outputs": [],
   "source": [
    "pfive = scipy.stats.norm.sf(5)\n",
    "threshold_five = scipy.stats.poisson.isf(pfive, s_null + b)\n",
    "print('pvalue=', pfive, 'threshold=', threshold_five, 'power=', scipy.stats.poisson.sf(threshold_five, s_alt2 + b))"
   ]
  },
  {
   "cell_type": "markdown",
   "metadata": {},
   "source": [
    "You should find that the power is about 50% -- i.e. this means that if $s_{\\text{alt}} = 20$ is indeed true, then we have an approximately 50% chance of obtaining $n \\ge 29$ and therefore of making the discovery."
   ]
  },
  {
   "cell_type": "markdown",
   "metadata": {},
   "source": [
    "## 3. Testing for discovery in a histogram\n",
    "\n",
    "Now that we have a general technique, let's apply all this to the full binned distribution above:"
   ]
  },
  {
   "cell_type": "code",
   "execution_count": null,
   "metadata": {},
   "outputs": [],
   "source": [
    "# Define the binning\n",
    "nbins = 10\n",
    "x = np.linspace(0, nbins - 1, nbins)\n",
    "\n",
    "# The background follows a linear shape\n",
    "b_yields = np.array([ (1 - i/2/nbins) for i in range(0, nbins) ])\n",
    "b_fracs = b_yields/np.sum(b_yields)\n",
    "\n",
    "# The signal shape is a peak\n",
    "s_fracs = np.zeros(nbins)\n",
    "s_fracs[3:7] = [ 0.1, 0.4, 0.4, 0.1 ]\n",
    "\n",
    "# Specify signal and background yields\n",
    "s = 70\n",
    "b = 1000\n",
    "s_and_b = s*s_fracs + b*b_fracs\n",
    "b_only = b*b_fracs\n",
    "\n",
    "# Generate a dataset\n",
    "np.random.seed(6) # make sure we always generate the same\n",
    "data = [ np.random.poisson(s*s_frac + b*b_frac) for s_frac, b_frac in zip(s_fracs, b_fracs) ]\n",
    "plt.bar(x, b_only, yerr=np.sqrt(b_only), color='b', label='b only')\n",
    "plt.scatter(x, data, zorder=10, color='k', label='data')\n",
    "plt.xlabel('bin number')\n",
    "plt.ylabel('Total expected yield')\n",
    "plt.legend();"
   ]
  },
  {
   "cell_type": "markdown",
   "metadata": {},
   "source": [
    "We can now compute the best-fit $\\hat{s}$ and from it the value of $q_0$, and use this to compute the significance of the signal"
   ]
  },
  {
   "cell_type": "markdown",
   "metadata": {},
   "source": [
    "$\\mathbf{\\color{red}{\\rightarrow\\text{Compute the values of } \\hat{s} \\text {, } q_0 \\text { and the significance}}}$"
   ]
  },
  {
   "cell_type": "markdown",
   "metadata": {},
   "source": [
    "$\\mathbf{\\color{green}{Answer}}$ : "
   ]
  },
  {
   "cell_type": "code",
   "execution_count": null,
   "metadata": {},
   "outputs": [],
   "source": [
    "from scipy.optimize import minimize_scalar\n",
    "s_hat = minimize_scalar(lambda s: lambda_s(s, data), (0, 200)).x\n",
    "print('exact hat{s}:', s_hat)\n",
    "\n",
    "# Compute and print q0, z, and the p-value\n",
    "q0 = lambda_s(0, data) - lambda_s(s_hat, data)\n",
    "print('q0 =', q0, 'z =', np.sqrt(q0), 'p-value =', scipy.stats.norm.sf(np.sqrt(q0)))\n",
    "\n",
    "# Compute the s_hat+b shape and plot the result\n",
    "hats_plus_b = s_hat*s_fracs + b_only\n",
    "plt.bar(x, hats_plus_b, yerr=np.sqrt(hats_plus_b), color='orange', label='Best-fit s + b')\n",
    "plt.bar(x, b_only, color='b', label='b only')\n",
    "plt.scatter(x, data, zorder=10, color='k', label='data')\n",
    "plt.xlabel('bin number')\n",
    "plt.ylabel('Total expected yield')\n",
    "plt.legend();"
   ]
  }
 ],
 "metadata": {
  "kernelspec": {
   "display_name": "Python 3 (ipykernel)",
   "language": "python",
   "name": "python3"
  },
  "language_info": {
   "codemirror_mode": {
    "name": "ipython",
    "version": 3
   },
   "file_extension": ".py",
   "mimetype": "text/x-python",
   "name": "python",
   "nbconvert_exporter": "python",
   "pygments_lexer": "ipython3",
   "version": "3.8.5"
  }
 },
 "nbformat": 4,
 "nbformat_minor": 4
}
