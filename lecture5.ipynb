{
 "cells": [
  {
   "cell_type": "markdown",
   "metadata": {},
   "source": [
    "# **Statistics lecture 5 Hands-on session : solutions notebook**"
   ]
  },
  {
   "cell_type": "markdown",
   "metadata": {},
   "source": [
    "This is the companion notebook to lecture 4 in the statistical course series, covering the following topics:\n",
    "1. Parameter estimation using simple tools\n",
    "2. Parameter estimation using the profile likelihood\n",
    "3. Limit-setting, using simple tools\n",
    "4. Limit-setting using the profile likelihood\n",
    "\n",
    "First perform the usual imports:"
   ]
  },
  {
   "cell_type": "code",
   "execution_count": 1,
   "metadata": {},
   "outputs": [],
   "source": [
    "import numpy as np\n",
    "import scipy.stats\n",
    "from matplotlib import pyplot as plt"
   ]
  },
  {
   "cell_type": "markdown",
   "metadata": {},
   "source": [
    "## 1. Profiling basics"
   ]
  },
  {
   "cell_type": "markdown",
   "metadata": {},
   "source": [
    "In the previous lectures, we have discussed 3 types of statistical results:\n",
    "* Testing for discovery\n",
    "* Computing confidence intervals for parameters (central value +/- uncertainty)\n",
    "* Setting upper limits\n",
    "\n",
    "For simplicity, all this was done using models with only 1 parameter (the signal $s$), which was the *parameter of interest*. Models usually also have additional *nuisance parameters* which aren't interesting in themselves, but need to be included to describe the data.\n",
    "\n",
    "These parameters need to be included in the treatment, but fortunately this is quite easy in the likelihood ratio framework. The basic quantity we used before was\n",
    "$$\n",
    "t(s) = -2 \\log \\frac{L(s)}{L(\\hat{s})}\n",
    "$$\n",
    "\n",
    "This allows to compare 2 hypotheses:\n",
    "* The free hypothesis $\\hat{s}$ which corresponds to the best-fit $s$ in the data.\n",
    "* The fixed hypothesis $s$ (for instance $s=0$ for discoveries)\n",
    "\n",
    "If we have an additional nuisance parameter $\\theta$, the likelihood is now a function of both parameters: $L(s, \\theta)$. How do we set $\\theta$ ? The interesting answer is that in both cases, we use the best-fit value of $\\theta$ :\n",
    "* For the free hypothesis $\\hat{s}$, we use $\\hat{\\theta}$, the best-fit value of $\\theta$.\n",
    "* For the fixed hypothesis $s$, we use $\\hat{\\hat{\\theta}}(s)$, the best-fit value of $\\theta$ at a fixed $s$.\n",
    "\n",
    "So in the end we use\n",
    "$$\n",
    "t(s) = -2 \\log \\frac{L(s, \\hat{\\hat{\\theta}}(s))}{L(\\hat{s},\\hat{\\theta})}\n",
    "$$\n",
    "with the appropriate best-fit values. This is now called the *profile likelihood*.\n",
    "\n",
    "A very nice feature of this is that $t(s)$ is still a function only of $s$, so we can perform the rest of the computation in the same way as before. The only difference is that we need to compute best-fit values for $\\theta$ in order to compute the appropriate ilikelihood values.\n"
   ]
  },
  {
   "cell_type": "markdown",
   "metadata": {},
   "source": [
    "## 1. Profiling on a single-bin example\n",
    "\n",
    "We reuse the same examples as in the previous sections: the full binned example defined below:"
   ]
  },
  {
   "cell_type": "code",
   "execution_count": 2,
   "metadata": {},
   "outputs": [
    {
     "data": {
      "image/png": "[encoded data removed]",
      "text/plain": [
       "<Figure size 432x288 with 1 Axes>"
      ]
     },
     "metadata": {
      "needs_background": "light"
     },
     "output_type": "display_data"
    }
   ],
   "source": [
    "nbins = 10\n",
    "x = np.linspace(0.5, nbins - 0.5, nbins)\n",
    "# The background follows a linear shape\n",
    "b_yields = np.array([ (1 - i/2/nbins) for i in range(0, nbins) ])\n",
    "b_yields *= b_yields/np.sum(b_yields)\n",
    "# The signal shape is a peak\n",
    "s_yields = np.zeros(nbins)\n",
    "s_yields[3:7] = [ 0.1, 0.4, 0.4, 0.1 ]\n",
    "# Now generate some data\n",
    "s = 10\n",
    "b = 500\n",
    "s_and_b = s*s_yields + b*b_yields\n",
    "b_only = b*b_yields\n",
    "np.random.seed(1) # make sure we always generate the same\n",
    "data = [ np.random.poisson(s*s_yield + b*b_yield) for s_yield, b_yield in zip(s_yields, b_yields) ]\n",
    "s30_and_b = 30*s_yields + b*b_yields\n",
    "plt.bar(x, s30_and_b, color='orange', label='s=30')\n",
    "plt.bar(x, b_only, color='b', yerr=np.sqrt(b_only), label='b only')\n",
    "plt.scatter(x, data, zorder=10, color='k')\n",
    "plt.xlabel('bin number')\n",
    "plt.ylabel('Total expected yield')\n",
    "plt.legend();"
   ]
  },
  {
   "cell_type": "markdown",
   "metadata": {},
   "source": [
    "and also the single-bin measurement in bin 4:"
   ]
  },
  {
   "cell_type": "code",
   "execution_count": 3,
   "metadata": {},
   "outputs": [
    {
     "data": {
      "image/png": "[encoded data removed]",
      "text/plain": [
       "<Figure size 432x288 with 1 Axes>"
      ]
     },
     "metadata": {
      "needs_background": "light"
     },
     "output_type": "display_data"
    }
   ],
   "source": [
    "sb4 = s30_and_b[4]\n",
    "b4 = b_only[4]\n",
    "n4 = data[4]\n",
    "plt.bar(x[4], sb4, color='orange', label='s=30')\n",
    "plt.bar(x[4], b4, color='b', yerr=np.sqrt(b_only[4]), label='b only')\n",
    "plt.scatter(x[4], n4, zorder=10, color='k')\n",
    "plt.xlabel('bin number')\n",
    "plt.ylabel('Total expected yield')\n",
    "plt.legend();"
   ]
  },
  {
   "cell_type": "markdown",
   "metadata": {},
   "source": [
    "We introduce a new ingredient: the background level $b_4$ is now not a fixed number, but only known up to an uncertainty, say $\\sigma_b = \\pm 2$. We assume here that it is Gaussian-distributed, so that the full likelihood is\n",
    "$$\n",
    "L(s, b) = P(n_4; s_4 + b_4) G(b^{\\text{aux}}, b_4, \\sigma_b)\n",
    "$$\n",
    "\n",
    "where the first term is the Poisson PDF we had before, and the Gaussian is a new term giving the PDF for $b_4$. The central value of the $b_4$ constraint is $b^{\\text{aux}}$, which is a kind of observable: we can assume that our knowledge of $b_4$ comes from a separate \"auxiliary\" experiment which observed $b^{\\text{aux}}$ with an uncertainty $\\sigma_b$, and we use this to constrain $b_4$ in the experiment here. \n",
    "\n",
    "In practice the constraint on $b_4$ can also come from Monte-Carlo simulation, an independent theory prediction, etc., but in this case we can anyway use the same formalism, and set $b^{\\text{aux}}$ to the nominal prediction and $\\sigma_b$ to its uncertainty.\n",
    "\n",
    "Here we'll set $b^{\\text{aux}}$ to our original background value, which is what we take as nominal:"
   ]
  },
  {
   "cell_type": "code",
   "execution_count": 4,
   "metadata": {},
   "outputs": [],
   "source": [
    "baux = b_only[4]\n",
    "sigmab = 3"
   ]
  },
  {
   "cell_type": "markdown",
   "metadata": {},
   "source": [
    "Let's define the profile likelihood, with $s$ as our parameter of interest, and $b$ the nuisance parameter. \n",
    "\n",
    "First we define $\\lambda(s,b) = -2\\log L(s,b)$, where $L(s,b)$ is the product of two terms:\n",
    "* The usual Poisson PDF for the one-bin counting process\n",
    "* The Gaussian representing the constraint on $b$, with an observable $b_{\\text{aux}}$, a mean $b$, and a width $\\sigma_b$.\n",
    "\n",
    "Secondly, we define the *profiled* version of the above, where $b$ is set to its best-fit value. To define it, we first must compute the best-fit $\\hat{\\hat {b}}(s)$ for a given $s$, by minimizing $\\lambda(s,b)$ for a fixed value of $s$. Then the profile likelihood is defined as $\\lambda(s) = -2\\log L(s,\\hat{\\hat {b}}(s))$.\n",
    "\n",
    "Finally, the $t(s)$ function is defined as usual as $t(s) = \\lambda(s) - \\lambda(\\hat{s})$, after computing the best-fit $\\hat{s}$ which minimizes $\\lambda(s)$. \n"
   ]
  },
  {
   "cell_type": "code",
   "execution_count": 5,
   "metadata": {},
   "outputs": [
    {
     "data": {
      "image/png": "[encoded data removed]",
      "text/plain": [
       "<Figure size 432x288 with 1 Axes>"
      ]
     },
     "metadata": {
      "needs_background": "light"
     },
     "output_type": "display_data"
    }
   ],
   "source": [
    "def logL_sb(s_val,b_val) : \n",
    "    pass # -2 log L here\n",
    "\n",
    "def prof_logL_s(s_val) :\n",
    "    # ==> Compute the best-fit bhat using scipy.optimize.minimize_scalar\n",
    "    pass # return the profile likelihood lambda(s) here\n",
    "def prof_t_s(s_val) :\n",
    "    # ==> find the best-fit shat that minimizes prof_logL_s\n",
    "    pass # return t(s) = prof_logL_s(s) - prof_logL_s(shat) here instead\n",
    "\n",
    "s_vals = np.arange(-10,20,1)\n",
    "plt.plot(s_vals, [ prof_t_s(s_val) for s_val in s_vals ])\n",
    "\n",
    "plt.ylabel('prof_t_s');"
   ]
  },
  {
   "cell_type": "markdown",
   "metadata": {},
   "source": [
    "This should look quite familiar from our previous exercises: we can extract the best-fit value of $s$ from the minimum value, and the uncertainties from the crossings with $t=1$. Just to check, we can compare with what we would get if we took a fixed background as before: "
   ]
  },
  {
   "cell_type": "code",
   "execution_count": 6,
   "metadata": {},
   "outputs": [
    {
     "data": {
      "image/png": "[encoded data removed]",
      "text/plain": [
       "<Figure size 432x288 with 1 Axes>"
      ]
     },
     "metadata": {
      "needs_background": "light"
     },
     "output_type": "display_data"
    }
   ],
   "source": [
    "def t_sb(s, b) :\n",
    "    # ==> compute the best-fit s by minimizing logL_sb(s, b) at a fixed b\n",
    "    pass # return t(s,b) = logL_sb(s,b) - logL_sb(shat,b) here instead\n",
    "\n",
    "s_vals = np.arange(-10,20,1)\n",
    "plt.plot(s_vals, [ prof_t_s(s_val) for s_val in s_vals ], label='uncertain b')\n",
    "plt.plot(s_vals, [ t_sb(s_val, b4) for s_val in s_vals ], linestyle='--', label='fixed b')\n",
    "plt.xlabel('s')\n",
    "plt.ylabel('prof_t_s')\n",
    "plt.axhline(1, linestyle=':')\n",
    "plt.legend();"
   ]
  },
  {
   "cell_type": "markdown",
   "metadata": {},
   "source": [
    "Hopefully everything should work as expected : we get the same result as before, but the size of the confidence interval went up since now the background adds a new source of uncertainty. As before, we could compute the crossings with $t=1$ to get the precise values of the uncertainties in each case.\n",
    "\n",
    "To see a bit better what is happening, we can check the values of the best-fit $b$ for different $s$ values:"
   ]
  },
  {
   "cell_type": "code",
   "execution_count": 7,
   "metadata": {},
   "outputs": [
    {
     "name": "stdout",
     "output_type": "stream",
     "text": [
      "b4 =  41.29032258064516\n"
     ]
    }
   ],
   "source": [
    "print('b4 = ', b4)\n",
    "# ==> compute the best-fit b value for s = 2.7, -10 and 20."
   ]
  },
  {
   "cell_type": "markdown",
   "metadata": {},
   "source": [
    "At the best-fit point $s=2.7$, the best-fit background should be equal to the nominal one. However at a lower $s$ value $s=-10$, you should get a higher best-fit $b$:  this reflects the fact that the background is pushed slightly up to compensate for the fact that the assumed signal is lower than what the data prefers. \n",
    "\n",
    "And if we push $s$ up, you should see $b$ going down for the same reason.\n",
    "\n",
    "These adjustments makes it more difficult to exclude values of $s$ away from $\\hat{s}$, so that the allowed range of $s$ gets larger -- and therefore the uncertainties get larger as well."
   ]
  },
  {
   "cell_type": "markdown",
   "metadata": {},
   "source": [
    "## 3. Profiling the multi-bin example"
   ]
  },
  {
   "cell_type": "markdown",
   "metadata": {},
   "source": [
    "In the single-bin example, we could only release $b$ if we also introduced an external constraint in the measurement. This is because the single-bin example only measures one number, so it cannot be used to determine both $s$ and $b$.\n",
    "\n",
    "In multi-bin analyses, we count events in multiple bins so it is possible to simultaneously measure multiple parameters. In our example, we can measure $s$ in the central, signal-rich region, while extracting $b$ from the side regions where there is no signal.\n",
    "\n",
    "So we can keep the same likelihood definition as in the previous lecture (without the Gaussian term) and simply make $b$ a free (nuisance) parameter."
   ]
  },
  {
   "cell_type": "code",
   "execution_count": 8,
   "metadata": {},
   "outputs": [
    {
     "data": {
      "image/png": "[encoded data removed]",
      "text/plain": [
       "<Figure size 432x288 with 1 Axes>"
      ]
     },
     "metadata": {
      "needs_background": "light"
     },
     "output_type": "display_data"
    }
   ],
   "source": [
    "s_vals = np.arange(0,50,2)\n",
    "\n",
    "def logL_sb(s_val, b_val) :\n",
    "    return -2*sum( [ np.log(scipy.stats.poisson.pmf(n, s_val*s_yield + b_val*b_yield)) for n, s_yield, b_yield in zip(data, s_yields, b_yields) ] )\n",
    "\n",
    "def prof_logL_s(s_val) :\n",
    "    # ==> Define the profile likelihood using the best-fit b as above\n",
    "    pass\n",
    "\n",
    "def prof_t_s(s_val) :\n",
    "    # ==> Define t(s) = lambda(s) - lambda(shat) using the best-fit s value shat as before\n",
    "    pass\n",
    "\n",
    "def t_sb(s_val, b_val) :\n",
    "    # ==> Define the non-profile likelihood t(s,b) = lambda(s,b) - lambda(shat,b) for a fixed b (i.e. no systematics on b)\n",
    "    pass\n",
    "\n",
    "# Plot the results\n",
    "plt.plot(s_vals, [ prof_t_s(s_val) for s_val in s_vals ], label='uncertain b')\n",
    "plt.plot(s_vals, [ t_sb(s_val, b_val=428) for s_val in s_vals ], linestyle='--', label='fixed b')\n",
    "plt.xlabel('s')\n",
    "plt.ylabel('prof_t_s')\n",
    "plt.axhline(1, linestyle=':')\n",
    "plt.legend();"
   ]
  },
  {
   "cell_type": "markdown",
   "metadata": {},
   "source": [
    "So it works as before (just ignore the warning!). Note that the central value is also shifted: the best-fit $b$ is now different from the one we had fixed before ($b=428$ instead of our assumed $b=500$), so the signal also gets a different value. \n",
    "\n",
    "This illustrates an important advantage of models with nuisance parameters: since the parameters adapt to the data, they can avoid biases in the results coming from faulty assumptions -- the results are therefore more reliable."
   ]
  },
  {
   "cell_type": "markdown",
   "metadata": {},
   "source": [
    "## 4. Bayesian methods: simple case\n",
    "\n",
    "The methods we have seen so far are *frequentist*. This in effect means that there are 2 difference classes of parameters\n",
    "* Observables, which are randomly given by the experiment.\n",
    "* Parameters, which always have a unique, fixed value -- which is known, or more often unknown.\n",
    "\n",
    "There is another class of methods, *Bayesian* methods, which have a different take on measurement. In this approach, everything is random:\n",
    "* Observables are random as before\n",
    "* Parameters are also considered random, with the associated PDF used to quantify the uncertainty on their values.\n",
    "\n",
    "So for instance, for a Gaussian measurement:\n",
    "* The frequentist approach is to say $s = 2 \\pm 3$, meaning that the interval $[-1, 5]$ has a 68% chance of containing the true value of $s$\n",
    "* The Bayesian approach is to say that $s \\sim G(2, 3)$, where the Gaussian encodes the same information.\n",
    "\n",
    "One thing to note is that in the frequentist setting, \"$[-1, 5]$ has a 68% chance of containing the true value of $s$\" is a statement on the interval itself, which is defined for a given experiment: another experiment would find another interval, and 68% of these intervals are guaranteed to contain the true value. For the Bayesian approach, the value of $s$ is itself random, and the experiment is just a way to gather more information on its distribution.\n",
    "\n",
    "The fundamental tool of Bayesian inference is Bayes' theorem. It can be written as\n",
    "$$\n",
    "P(s) \\propto L(s; n) \\pi(s)\n",
    "$$\n",
    "where \n",
    "* $\\pi(s)$ is the *prior* PDF -- a PDF giving the knowledge of $s$ that we had before the experiment\n",
    "* $L(s;n)$ is the usual likelihood\n",
    "* $P(s)$ is the *posterior* PDF on $s$, i.e. the distribution that encodes our knowledge of $s$ including the experimental information.\n",
    "\n",
    "A limit on $s$ can then be set by integrating the posterior $P(s)$ and finding $s_{up}$ so that $\\int^{s_{up}} P(s) ds = 95\\%$.\n",
    "\n",
    "Consider the example we had before:"
   ]
  },
  {
   "cell_type": "code",
   "execution_count": 9,
   "metadata": {},
   "outputs": [
    {
     "data": {
      "image/png": "[encoded data removed]",
      "text/plain": [
       "<Figure size 432x288 with 1 Axes>"
      ]
     },
     "metadata": {
      "needs_background": "light"
     },
     "output_type": "display_data"
    }
   ],
   "source": [
    "plt.bar(x[4], sb4, color='orange', label='s=30')\n",
    "plt.bar(x[4], b4, color='b', yerr=np.sqrt(b_only[4]), label='b only')\n",
    "plt.scatter(x[4], n4, zorder=10, color='k')\n",
    "plt.xlabel('bin number')\n",
    "plt.ylabel('Total expected yield')\n",
    "plt.legend();"
   ]
  },
  {
   "cell_type": "markdown",
   "metadata": {},
   "source": [
    "and assume we have a flat prior on $s$, $\\pi(s) = k$. Flat priors are often used in Bayesian applications, since they provide a relatively unbiased starting point.\n",
    "(Note that technically the flat distribution is not well defined if the range of $s$ is infinite, but this won't crea te problems here).\n",
    "\n",
    "Now we can derive the upper limit:"
   ]
  },
  {
   "cell_type": "code",
   "execution_count": 10,
   "metadata": {},
   "outputs": [
    {
     "data": {
      "text/plain": [
       "<AxesSubplot:>"
      ]
     },
     "execution_count": 10,
     "metadata": {},
     "output_type": "execute_result"
    },
    {
     "data": {
      "image/png": "[encoded data removed]",
      "text/plain": [
       "<Figure size 432x288 with 2 Axes>"
      ]
     },
     "metadata": {
      "needs_background": "light"
     },
     "output_type": "display_data"
    }
   ],
   "source": [
    "def p_s(s_val) :\n",
    "  return scipy.stats.poisson.pmf(n4, s_val + b4)\n",
    "\n",
    "import scipy.integrate\n",
    "\n",
    "def integral_s(s_val) :\n",
    "    return scipy.integrate.quad(p_s, -20, s_val)[0]\n",
    "\n",
    "s_vals = np.linspace(-20,30,50)\n",
    "plt.subplot(121)\n",
    "# ==> Plot p(s) as a function of s\n",
    "plt.subplot(122)\n",
    "# ==> Plot integral_s(s) as as function of s\n",
    "# ==> Use scipy.optimize.root_scalar to compute the Bayesian 95% CL upper limit by finding the point where the integral reaches 95%."
   ]
  },
  {
   "cell_type": "markdown",
   "metadata": {},
   "source": [
    "## 4. Bayesian methods: nuisance parameters\n",
    "\n",
    "Models usually also include nuisance parameters. For instance we considered a one-bin model where the background was only defined up to an uncertainty, so that the full likelihood is\n",
    "$$\n",
    "L(s, b) = P(n_4; s_4 + b_4) G(b^{\\text{aux}}, b_4, \\sigma_b)\n",
    "$$\n",
    "\n",
    "The way to treat this in a Bayesian way is to integrate over the nuisance parameters: formally\n",
    "$$\n",
    "P(s) \\propto \\int L(s, b; n) \\pi(s) G(b) db\n",
    "$$\n",
    "So that the constraint becomes the prior PDF of $b$. Using an uncertainty of $5$ on the background, and a central value equal to $b_4$, we have"
   ]
  },
  {
   "cell_type": "code",
   "execution_count": 11,
   "metadata": {},
   "outputs": [],
   "source": [
    "def p_sb(s_val, b_val) :\n",
    "    return scipy.stats.poisson.pmf(n4, s_val + b_val)*scipy.stats.norm.pdf(b_val, loc=b4, scale=5)\n",
    "\n",
    "def integral_intb(s_val) :\n",
    "    # ==> Marginalize p_sb over b (integrate over b at fixed s)\n",
    "    pass\n",
    "\n",
    "def integral_sb(s_val) :\n",
    "    # ==> Return the integral of integral_intb from -infinity (actually -25 should do) to s_val \n",
    "    pass\n",
    "\n",
    "s_vals = np.linspace(-20,80,51)\n",
    "# ==> Plot p_s(s) and integral_intb(s) on the same plot.\n",
    "#     You should see that the latter is a smeared version of the former, reflecting that it is\n",
    "#     a convolution of p_s with an uncertainty on b\n"
   ]
  },
  {
   "cell_type": "code",
   "execution_count": 12,
   "metadata": {},
   "outputs": [],
   "source": [
    "# ==> Plot integral_sb as a function of s (takes a while, since it is a double integral on s and b!)\n",
    "# ==> Compute the Bayesian limit including b systematics, by finding the point where integral_sb = 0.95"
   ]
  },
  {
   "cell_type": "markdown",
   "metadata": {},
   "source": [
    "You should find that the limit in this case is slightly larger than in the no-systematics case, as one can expect."
   ]
  },
  {
   "cell_type": "code",
   "execution_count": null,
   "metadata": {},
   "outputs": [],
   "source": []
  }
 ],
 "metadata": {
  "kernelspec": {
   "display_name": "Python 3",
   "language": "python",
   "name": "python3"
  },
  "language_info": {
   "codemirror_mode": {
    "name": "ipython",
    "version": 3
   },
   "file_extension": ".py",
   "mimetype": "text/x-python",
   "name": "python",
   "nbconvert_exporter": "python",
   "pygments_lexer": "ipython3",
   "version": "3.8.5"
  }
 },
 "nbformat": 4,
 "nbformat_minor": 4
}
