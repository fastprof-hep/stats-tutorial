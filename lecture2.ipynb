{
 "cells": [
  {
   "cell_type": "markdown",
   "metadata": {},
   "source": [
    "# **Statistics lecture 2 Hands-on session : exercises notebook**"
   ]
  },
  {
   "cell_type": "markdown",
   "metadata": {},
   "source": [
    "This is the companion notebook to lecture 2 in the statistical course series, covering the following topics:\n",
    "1. Maximum likelihood basics\n",
    "2. Maximum likelihood for binned data\n",
    "3. Maximum likelihood in the Gaussian case and chi2\n",
    "4. Hypothesis testing basics\n",
    "\n",
    "First perform the usual imports:"
   ]
  },
  {
   "cell_type": "code",
   "execution_count": 4,
   "metadata": {},
   "outputs": [],
   "source": [
    "import numpy as np\n",
    "import scipy.stats\n",
    "from matplotlib import pyplot as plt"
   ]
  },
  {
   "cell_type": "markdown",
   "metadata": {},
   "source": [
    "## 1.  Maximum likelihood basics\n",
    "\n",
    "Maximum likelihood is a powerful tool to *estimate* (=compute the value of, in stats parlance) unknown parameters. The principle is as follows: what we know is\n",
    "* **The PDF** $P(x;\\theta)$, in terms of the observable $x$ (a.k.a. the random variable) and one or more unknown parameters $\\theta$.\n",
    "* **A dataset**, i.e. a value $x_{\\text{obs}}$ of the observable.\n",
    "\n",
    "The natural usage of the PDF is to draw values of $x$, for a given value of $\\theta$. What we need here is the reverse: we already have the observed $x_{\\text{obs}}$, and we'd like to use it to infer the value of $\\theta$.\n",
    "\n",
    "Maximum likelihood (ML) is the procedure of doing this by maximizing the PDF as a function of $\\theta$ and with the observable fixed to to $x = x_{\\text{obs}}$. This presentation of the PDF is called the *likelihood*, and it's really still just the PDF:\n",
    "$$\n",
    "L(\\theta) = P(x_{\\text{obs}}; \\theta).\n",
    "$$\n",
    "The ML estimator for $\\theta$ is then\n",
    "$$\n",
    "\\hat{\\theta} = \\text{arg max}_{\\theta} \\, L(\\theta),\n",
    "$$\n",
    "the value of $\\theta$ that maximizes $L$.\n",
    "\n",
    "We start with a simple example: a counting experiment where we observe $n=5$ with an expected background of $b=3$. The PDF is a Poisson, with a parameter given as $s+b$, and we'd like to estimate $s$.\n",
    "\n",
    "The ML procedure is performed as"
   ]
  },
  {
   "cell_type": "code",
   "execution_count": 3,
   "metadata": {},
   "outputs": [],
   "source": [
    "# Set the inputs\n",
    "n_obs = 5\n",
    "b = 3\n",
    "\n",
    "# We're going to scan values of s ranging from 0 to 5, in steps of 0.1\n",
    "s_values = np.arange(0, 5, 0.1)\n",
    "\n",
    "# ==> Compute the likelihood for each value of s. As a reminder, the Poisson PDF P(n,s+b) is provided as scipy.stats.poisson.pmf(n, s+b)\n",
    "# ==> Plot the results and find the value of s (\"s-hat\") that maximizes the likelihood"
   ]
  },
  {
   "cell_type": "markdown",
   "metadata": {},
   "source": [
    "If all goes well, you should get a maximum at $\\hat{s} = 2$ as one could naively expect.\n",
    "\n",
    "Note that while the position of the maximum is meaningful, the likelihood value isn't: as we'll see later, likelihoods only need to be defined up to a multiplicative factor since we only use likelihood ratios in measurements, so their absolute value is arbitrary.\n"
   ]
  },
  {
   "cell_type": "markdown",
   "metadata": {},
   "source": [
    "## 2. Maximum likelihood for binned data"
   ]
  },
  {
   "cell_type": "markdown",
   "metadata": {},
   "source": [
    "To make things a bit more interesting, we move to the analysis of binned data. We take a model similar to the one used for the $\\chi^2$ exercise in the previous lecture:"
   ]
  },
  {
   "cell_type": "code",
   "execution_count": 5,
   "metadata": {},
   "outputs": [
    {
     "data": {
      "image/png": "[encoded data removed]",
      "text/plain": [
       "<Figure size 432x288 with 1 Axes>"
      ]
     },
     "metadata": {
      "needs_background": "light"
     },
     "output_type": "display_data"
    }
   ],
   "source": [
    "# Define the binning\n",
    "nbins = 10\n",
    "x = np.linspace(0.5, nbins - 0.5, nbins)\n",
    "\n",
    "# The background follows a linear shape\n",
    "b_yields = np.array([ (1 - i/2/nbins) for i in range(0, nbins) ])\n",
    "b_fracs = b_yields/np.sum(b_yields)\n",
    "\n",
    "# The signal shape is a peak\n",
    "s_fracs = np.zeros(nbins)\n",
    "s_fracs[4:7] = [ 0.1, 0.8, 0.1 ]\n",
    "\n",
    "# Define the signal and background\n",
    "s = 3\n",
    "b = 50\n",
    "s_and_b = s*s_fracs + b*b_fracs\n",
    "b_only = b*b_fracs\n",
    "\n",
    "# Now generate some data for the s+b model\n",
    "np.random.seed(14) # Set the random seed to make sure we generate the same data every time\n",
    "data = [ np.random.poisson(s*s_frac + b*b_frac) for s_frac, b_frac in zip(s_fracs, b_fracs) ]\n",
    "\n",
    "# Make a plot of the result\n",
    "plt.bar(x, s_and_b, color='orange', yerr=np.sqrt(s_and_b), label='s+b')\n",
    "plt.bar(x, b_only, color='b', label='b only')\n",
    "plt.scatter(x, data, zorder=10, color='k', label='data')\n",
    "plt.xlabel('bin number')\n",
    "plt.ylabel('Total expected yield')\n",
    "plt.legend();"
   ]
  },
  {
   "cell_type": "markdown",
   "metadata": {},
   "source": [
    "The plot above shows the typical case of a binned analysis: we have 2 *templates*, i.e. reference shapes for signal and background. These are given by bin fractions $f_{S,i}$ and $f_{B,i}$ which are normalized to 1. They are then scaled by the yields $s$ and $b$.\n",
    "\n",
    "The ML estimate $\\hat{s}$ corresponds to the \"best fit\" of the templates to the data, so one can more or less read it off the plot: naively, one expects something a bit larger than the $s=3$ value that is shown in the plot, perhaps $\\hat{s} \\approx 5$ or so.\n",
    "\n",
    "We now check this by performing the ML estimation. A small change compared to the previous case is that instead of $L(s)$, we'll be using the quantity $\\lambda = -2 \\log L(s)$. The reason is as follows: first, the total PDF for all the bins together is a product of Poisson terms, one for each bin:\n",
    "$$\n",
    "L(s) = \\prod_{i=1}^{n_{\\text{bins}}} P(n_i, s f_{s,i} + b f_{b,i})\n",
    "$$\n",
    "Technically it's easier to deal with sums than products, and the log does this for us. As we'll see in a moment, this is also useful to deal with Gaussian PDFs, since in this case the log just extracts the squared term in the exponent. This is also the reason for the $-2$ term in the formula.\n",
    "The only consequence in practical terms is that instead of $L(s)$ we compute $\\lambda(s)$, and that we now want to minimize it instead of maximizing. But the ML estimate $\\hat{s}$ remains the same, since the value of $s$ that maximizes $L(s)$ also minimizes $\\lambda(s)$.\n",
    "\n",
    "Let's not compute the ML estimate (best fit) $\\hat{s}$ using $\\lambda(s)$ :"
   ]
  },
  {
   "cell_type": "code",
   "execution_count": 7,
   "metadata": {},
   "outputs": [],
   "source": [
    "# Define the s scan\n",
    "s_values = np.arange(-2, 15, 0.1)\n",
    "\n",
    "# ==> Compute lambda for each value of s, plot the result and find the best-fit value among the values tested;\n",
    "# ==> For later convenience, you may want to define a function lambda_s(s) that returns lambda as a function of s :\n",
    "\n",
    "def lambda_s(s) :\n",
    "    pass # replace this with the appropriate code"
   ]
  },
  {
   "cell_type": "markdown",
   "metadata": {},
   "source": [
    "If all goes well, you should find a best-fit $\\hat{s}$ of about 5. Of course this value is a bit imprecise due to the step size of 0.1 in the scan, but we can do better:"
   ]
  },
  {
   "cell_type": "code",
   "execution_count": 8,
   "metadata": {},
   "outputs": [],
   "source": [
    "from scipy.optimize import minimize_scalar\n",
    "# ==> Use the minimize_scalar function to find the minimum value. \n",
    "#     The syntax is minimize_scalar(func, (min, max)).x  (the .x returns the position of the minimum)\n",
    "#     and 'func' should be the lambda_s function you defined above"
   ]
  },
  {
   "cell_type": "markdown",
   "metadata": {},
   "source": [
    "You should find a best-fit value of about $\\hat{s} = 5.06$. \n",
    "\n",
    "Note than since $L(s)$ was defined only up to a multiplicative factor, $\\lambda(s)$ is defined up to an additive constant, so the value $\\lambda(\\hat{s})$ at the minimum isn't meaningful. On the other hand, the difference between values of $\\lambda(s)$ at different $s$ is meaningful, and will be used later in hypothesis testing."
   ]
  },
  {
   "cell_type": "markdown",
   "metadata": {},
   "source": [
    "## 3. Maximum-likelihood in the Gaussian case"
   ]
  },
  {
   "cell_type": "markdown",
   "metadata": {},
   "source": [
    "We've seen that the Poisson distribution can often be well approximated by a Gaussian (and other distributions as well, though the Central-limit theorem). If we write the expected number of events as\n",
    "$$\n",
    "N_i = s f_{s,i} + b f_{b,i}\n",
    "$$\n",
    "then the likelihood is\n",
    "$$\n",
    "L(s) = \\prod_{i=1}^{n_{\\text{bins}}} P(n_i, N_i) \\approx \\prod_{i=1}^{n_{\\text{bins}}} \\exp\\left(-\\frac{1}{2} \\frac{(n_i - N_i)^2}{\\sigma_i^2} \\right)\n",
    "$$\n",
    "\n",
    "And then the -2 log likelihood is\n",
    "\n",
    "$$\n",
    "\\lambda(s) = -2 \\log L(s) = \\sum_{i=1}^{n_{\\text{bins}}}\\left(\\frac{n_i - N_i}{\\sigma_i}\\right)^2\n",
    "$$\n",
    "which is of course very familiar: it's just the usual $\\chi^2$. This is an important motivation for using $\\lambda(s)$ : it can be defined for any likelihood, but in the Gaussian case, it reduces to the $\\chi^2$. (Note that we've dropped the normalization factor of the Gaussian PDF along the way, but again, we're always free to drop constants when computing likelihoods)\n",
    "\n",
    "The upshot is that for the Gaussian case, ML is the same as $\\chi^2$ minimization -- this is why we're using \"ML\" and \"best-fit\" interchangeably in this notebook. To illustrate this, we can repeat the example above in the Gaussian case, now estimating $\\hat{s}$ using the $\\chi^2$.\n",
    "\n",
    "For the standard $\\chi^2$ (also called the *Pearson* $\\chi^2$), we take $\\sigma_i^2$ as the uncertainty on the prediction. Recall that for a Poisson distribution the variance is the same as the mean, so we have $\\sigma_i^2 = N_i$.\n"
   ]
  },
  {
   "cell_type": "code",
   "execution_count": 6,
   "metadata": {},
   "outputs": [],
   "source": [
    "# ==> Define a function to compute the chi2 between the model and the data as a function of s\n",
    "def chi2_Pearson(s) :\n",
    "    pass # your code here instead\n",
    "\n",
    "# ==> Plot the chi2_Pearson(s) value and the lambda(s) values on the same plot to see if they are close to each other as expected. You will\n",
    "#     need to add a vertical offset to one of the curves to get good agreement, which one can always do as discussed above. \n",
    "# ==> Use minimize_scalar to find the value of s which minimizes the chi2, and compare to what was found for lambda(s) above."
   ]
  },
  {
   "cell_type": "markdown",
   "metadata": {},
   "source": [
    "If all goes well, you should see that the $\\chi^2$ is quite close to the Poisson case above. The difference comes from the fact that the event counts are not quite large enough for the Poisson distributions to be fully Gaussian, and the residual non-Gaussianity leads to a small discrepency between the exact Poisson model and its $\\chi^2$ approximation.\n",
    "\n",
    "One can have an even less Gaussian situation by setting $s$ and $b$ to smaller values (say $s=2$ and $b=1$), so that the number of events is not large enough to trigger the Central-limit theorem. In this case one should get an asymmetric shape for the Poisson $\\lambda$ and sizable differences with the $\\chi^2$ approximation. \n",
    "\n",
    "**The rest of this section is optional -- feel free to skip if you are short on time (you should be about half way through the session at this point)**"
   ]
  },
  {
   "cell_type": "code",
   "execution_count": 9,
   "metadata": {},
   "outputs": [],
   "source": [
    "# ==> (optional) Repeat the previous study for s=2 and b=1 to check for larger non-Gaussian effect.\n",
    "# ==> (optional) One can also repeat it again for larger counts such as b=1000, s=20 and check that the chi2 is now an excellent approximation to the Poisson."
   ]
  },
  {
   "cell_type": "markdown",
   "metadata": {},
   "source": [
    "One can also define the alternate *Neyman* $\\chi^2$, where the uncertainty is taken from the observation rather than the expectation, so $\\sigma_i^2 = n_i$. This has some advantages, but typically agrees less well with the the Poisson limit:"
   ]
  },
  {
   "cell_type": "code",
   "execution_count": 8,
   "metadata": {},
   "outputs": [],
   "source": [
    "# ==> Repeat the previous study (going back to the original event yields), and add the Neyman chi2 curve to the plot with lambda(s)"
   ]
  },
  {
   "cell_type": "markdown",
   "metadata": {},
   "source": [
    "## 4. Hypothesis testing basics"
   ]
  },
  {
   "cell_type": "markdown",
   "metadata": {},
   "source": [
    "So far we've focused on estimating parameters, but to get realistic results (including setting uncertainties on the best-fit values), we need an additional ingredient, *hypothesis testing*. The procedure for this is as follows:\n",
    "* **Define the hypotheses to test**. We need two of them: a baseline *null* hypothesis, and an *alternate* which is tested against it\n",
    "* **Define the *test* to perform** -- meaning the observables to use, and procedure to decide which hypothesis to accept.\n",
    "* **Compute the result of the test for the observed data**, in particular the *p-value* of the test, and decide whether to accept the null or the alternate hypothesis.\n",
    "\n",
    "To start with, we consider a simple Poisson counting process\n",
    "* Define two different signal hypotheses ($n=0$ and $n=5$)\n",
    "* Define the test in terms of the observed number of events: if it is less than some threshold, accept the null $n=0$, otherwise $n=5$.\n",
    "* As for any test, there are two ways to go wrong:\n",
    "   * Rejecting the null although it is true (false positive): the fraction of such cases is the *Type-I error rate* or *p-value*.\n",
    "   * Accepting the null although it is false (false negative) : : the fraction of such cases is the *Type-II error rate*, also (1 - Power)\n",
    "\n",
    "A more stringent test reduces the Type-I error rate, but at the expense of an increased Type-II rate and vice versa. This is illustrated by the *ROC curve* which shows each error rate as a function of the other. The threshold for the test should be chosen depending on the desired balance between these error rates.\n",
    "\n",
    "For the study below, we consider a single-bin counting experiment. In this case the disciminant is just the observed count $n$."
   ]
  },
  {
   "cell_type": "code",
   "execution_count": 9,
   "metadata": {},
   "outputs": [],
   "source": [
    "# Define the  hypotheses\n",
    "b = 10 # background of 10 events\n",
    "s_null = 0 # the null hypothesis: no signal, only background\n",
    "s_alt  = 5 # the alternate hypothesis: \n",
    "\n",
    "# consider various values of the observed n (our discriminant)\n",
    "ns = np.arange(1, 30, 1)\n",
    "\n",
    "# ==> Compute and plot the PDFs for the two hypotheses. These are Poisson PDFs with parameters s_null + b and s_alt + b,\n",
    "#     and should be evaluated at the n values given in the array above.\n",
    "#     Reminder: the poisson PDF is given by scipy.stats.poisson.pmf(n, s+b)\n",
    "\n",
    "# Now we draw a couple of plots illustrating different test configurations\n",
    "\n",
    "# First a loose test with a threshold at n=12 (i.e s=2)\n",
    "threshold1 = 12\n",
    "\n",
    "# Then a more stringent test with a threshold at n=16 (i.e s=6)\n",
    "threshold2 = 16\n",
    "\n",
    "# ==> Compute the Type-I error probability (p-value) and the Type-II error probability for 2 tests\n",
    "#     Recall that the p-value is the integral of the null hypothesis PDF above the threshold, so given by scipy.stats.poisson.sf(threshold, s_null+b)\n",
    "#       and the Type-II error is the integral of the alt. hypothesis PDF below the threshold,  so given by scipy.stats.poisson.cdf(threshold, s_alt+b)\n",
    "# ==> Also optionally plot the results using the fill_between command of matplotlib, as done in lecture 1\n",
    "\n",
    "thresholds = np.arange(1, 30, 1)\n",
    "# ==> Compute the Type-I and Type-II error probabilities for each threshold in the list above, and plot the ROC curve\n"
   ]
  },
  {
   "cell_type": "markdown",
   "metadata": {},
   "source": [
    "The threshold for discovery in physics is often set at $5\\sigma$, which corresponds to a p-value of about $3 \\cdot 10^{-7}$. What threshold would one use to get so small a Type-I error rate ?"
   ]
  },
  {
   "cell_type": "code",
   "execution_count": 10,
   "metadata": {},
   "outputs": [],
   "source": [
    "# ==> Compute the value of the threshold on n which would give us a 5sigma discovery\n",
    "# Note that the exact value of the p-value corresponding to \"5sigmas\" is given by scipy.stats.normal.sf(5) -- the integral of a normal PDF above 5\n",
    "\n",
    "# ==> also compute the power of this test, i.e. 1 - (Type II error rate) for this threshold"
   ]
  },
  {
   "cell_type": "markdown",
   "metadata": {},
   "source": [
    "You should find $n_{\\text{obs}} \\ge 29$. If we do osberve such a large n, then we can indeed reject the null at with a p-value corresponding to a $5\\sigma$ threshold. This corresponds to testing for discovery: we reject the no-signal hypothesis in favor of an hypothesis with non-zero signal.\n",
    "\n",
    "However the power of the test is also very low (you should have found about $4\\, 10^{-4}$ above), which means that even if the $s=5 $signal is there, we are very unlikely to observe an event count of $n_{\\text{obs}} \\ge 29$. The underlying problem that is causing this is the fact that the different between the alternate hypothesis $s=5$ and the null $s=0$ is quite small on the scale of the measurement uncertainties, so the two hypotheses are difficult to separate.\n",
    "\n",
    "If the alternate hypothesis was larger, say $20$ signal events, then things would be easier. The threshold for discovery would still be 29 events (this only depends on the null, not the alt), but now the power would be:"
   ]
  },
  {
   "cell_type": "code",
   "execution_count": 11,
   "metadata": {},
   "outputs": [],
   "source": [
    "s_alt2 = 20\n",
    "# ==> Compute the power of the test "
   ]
  },
  {
   "cell_type": "markdown",
   "metadata": {},
   "source": [
    "You should find that the power is about 50% -- i.e. this means that if $s_{\\text{alt}} = 20$ is indeed true, then we have an approximately 50% chance of obtaining $n \\ge 29$ and therefore of making the discovery."
   ]
  },
  {
   "cell_type": "code",
   "execution_count": null,
   "metadata": {},
   "outputs": [],
   "source": []
  }
 ],
 "metadata": {
  "kernelspec": {
   "display_name": "Python 3",
   "language": "python",
   "name": "python3"
  },
  "language_info": {
   "codemirror_mode": {
    "name": "ipython",
    "version": 3
   },
   "file_extension": ".py",
   "mimetype": "text/x-python",
   "name": "python",
   "nbconvert_exporter": "python",
   "pygments_lexer": "ipython3",
   "version": "3.8.5"
  }
 },
 "nbformat": 4,
 "nbformat_minor": 4
}
